{
  "nbformat": 4,
  "nbformat_minor": 0,
  "metadata": {
    "kernelspec": {
      "display_name": "Python 3",
      "language": "python",
      "name": "python3"
    },
    "language_info": {
      "codemirror_mode": {
        "name": "ipython",
        "version": 3
      },
      "file_extension": ".py",
      "mimetype": "text/x-python",
      "name": "python",
      "nbconvert_exporter": "python",
      "pygments_lexer": "ipython3",
      "version": "3.8.3"
    },
    "colab": {
      "name": "003-Closest-Image-to-Date-MOD16A2.ipynb",
      "provenance": []
    }
  },
  "cells": [
    {
      "cell_type": "markdown",
      "metadata": {
        "id": "5tZTdLTaO_qP"
      },
      "source": [
        "<a href=\"https://colab.research.google.com/github/davemlz/eemont/blob/master/tutorials/003-Closest-Image-to-Date-MOD16A2.ipynb\" target=\"_parent\"><img src=\"https://colab.research.google.com/assets/colab-badge.svg\" alt=\"Open In Colab\"/></a>"
      ]
    },
    {
      "cell_type": "markdown",
      "metadata": {
        "id": "jZEthLln92Ep"
      },
      "source": [
        "# Getting the Closest Image to a Specific Date\r\n",
        "# by Pervez Bhan "
      ]
    },
    {
      "cell_type": "markdown",
      "metadata": {
        "id": "CD7h0hbi92Er"
      },
      "source": [
        "## Let's start!"
      ]
    },
    {
      "cell_type": "markdown",
      "metadata": {
        "id": "E0rc6Cya92Es"
      },
      "source": [
        "If required, please uncomment:"
      ]
    },
    {
      "cell_type": "code",
      "metadata": {
        "id": "NYzyvKtk92Es",
        "outputId": "580e98a2-f3c3-4061-f28e-135b89520c85",
        "colab": {
          "base_uri": "https://localhost:8080/",
          "height": 1000
        }
      },
      "source": [
        "!pip install earthengine-api\n",
        "!pip install eemont\n",
        "!pip install geemap"
      ],
      "execution_count": 1,
      "outputs": [
        {
          "output_type": "stream",
          "text": [
            "Requirement already satisfied: earthengine-api in /usr/local/lib/python3.6/dist-packages (0.1.238)\n",
            "Requirement already satisfied: httplib2<1dev,>=0.9.2 in /usr/local/lib/python3.6/dist-packages (from earthengine-api) (0.17.4)\n",
            "Requirement already satisfied: google-cloud-storage in /usr/local/lib/python3.6/dist-packages (from earthengine-api) (1.18.1)\n",
            "Requirement already satisfied: google-api-python-client in /usr/local/lib/python3.6/dist-packages (from earthengine-api) (1.7.12)\n",
            "Requirement already satisfied: httplib2shim in /usr/local/lib/python3.6/dist-packages (from earthengine-api) (0.0.3)\n",
            "Requirement already satisfied: google-auth>=1.4.1 in /usr/local/lib/python3.6/dist-packages (from earthengine-api) (1.25.0)\n",
            "Requirement already satisfied: six in /usr/local/lib/python3.6/dist-packages (from earthengine-api) (1.15.0)\n",
            "Requirement already satisfied: google-auth-httplib2>=0.0.3 in /usr/local/lib/python3.6/dist-packages (from earthengine-api) (0.0.4)\n",
            "Requirement already satisfied: future in /usr/local/lib/python3.6/dist-packages (from earthengine-api) (0.16.0)\n",
            "Requirement already satisfied: google-cloud-core<2.0dev,>=1.0.0 in /usr/local/lib/python3.6/dist-packages (from google-cloud-storage->earthengine-api) (1.0.3)\n",
            "Requirement already satisfied: google-resumable-media<0.5.0dev,>=0.3.1 in /usr/local/lib/python3.6/dist-packages (from google-cloud-storage->earthengine-api) (0.4.1)\n",
            "Requirement already satisfied: uritemplate<4dev,>=3.0.0 in /usr/local/lib/python3.6/dist-packages (from google-api-python-client->earthengine-api) (3.0.1)\n",
            "Requirement already satisfied: certifi in /usr/local/lib/python3.6/dist-packages (from httplib2shim->earthengine-api) (2020.12.5)\n",
            "Requirement already satisfied: urllib3 in /usr/local/lib/python3.6/dist-packages (from httplib2shim->earthengine-api) (1.24.3)\n",
            "Requirement already satisfied: pyasn1-modules>=0.2.1 in /usr/local/lib/python3.6/dist-packages (from google-auth>=1.4.1->earthengine-api) (0.2.8)\n",
            "Requirement already satisfied: cachetools<5.0,>=2.0.0 in /usr/local/lib/python3.6/dist-packages (from google-auth>=1.4.1->earthengine-api) (4.2.1)\n",
            "Requirement already satisfied: rsa<5,>=3.1.4; python_version >= \"3.6\" in /usr/local/lib/python3.6/dist-packages (from google-auth>=1.4.1->earthengine-api) (4.7)\n",
            "Requirement already satisfied: setuptools>=40.3.0 in /usr/local/lib/python3.6/dist-packages (from google-auth>=1.4.1->earthengine-api) (53.0.0)\n",
            "Requirement already satisfied: google-api-core<2.0.0dev,>=1.14.0 in /usr/local/lib/python3.6/dist-packages (from google-cloud-core<2.0dev,>=1.0.0->google-cloud-storage->earthengine-api) (1.16.0)\n",
            "Requirement already satisfied: pyasn1<0.5.0,>=0.4.6 in /usr/local/lib/python3.6/dist-packages (from pyasn1-modules>=0.2.1->google-auth>=1.4.1->earthengine-api) (0.4.8)\n",
            "Requirement already satisfied: protobuf>=3.4.0 in /usr/local/lib/python3.6/dist-packages (from google-api-core<2.0.0dev,>=1.14.0->google-cloud-core<2.0dev,>=1.0.0->google-cloud-storage->earthengine-api) (3.12.4)\n",
            "Requirement already satisfied: pytz in /usr/local/lib/python3.6/dist-packages (from google-api-core<2.0.0dev,>=1.14.0->google-cloud-core<2.0dev,>=1.0.0->google-cloud-storage->earthengine-api) (2018.9)\n",
            "Requirement already satisfied: requests<3.0.0dev,>=2.18.0 in /usr/local/lib/python3.6/dist-packages (from google-api-core<2.0.0dev,>=1.14.0->google-cloud-core<2.0dev,>=1.0.0->google-cloud-storage->earthengine-api) (2.23.0)\n",
            "Requirement already satisfied: googleapis-common-protos<2.0dev,>=1.6.0 in /usr/local/lib/python3.6/dist-packages (from google-api-core<2.0.0dev,>=1.14.0->google-cloud-core<2.0dev,>=1.0.0->google-cloud-storage->earthengine-api) (1.52.0)\n",
            "Requirement already satisfied: chardet<4,>=3.0.2 in /usr/local/lib/python3.6/dist-packages (from requests<3.0.0dev,>=2.18.0->google-api-core<2.0.0dev,>=1.14.0->google-cloud-core<2.0dev,>=1.0.0->google-cloud-storage->earthengine-api) (3.0.4)\n",
            "Requirement already satisfied: idna<3,>=2.5 in /usr/local/lib/python3.6/dist-packages (from requests<3.0.0dev,>=2.18.0->google-api-core<2.0.0dev,>=1.14.0->google-cloud-core<2.0dev,>=1.0.0->google-cloud-storage->earthengine-api) (2.10)\n",
            "Collecting eemont\n",
            "  Downloading https://files.pythonhosted.org/packages/f5/89/e054eded34d4f81aec04e932c3328234d22ceb3af5d589f6b7c2d1d98fd5/eemont-0.1.7.tar.gz\n",
            "Requirement already satisfied: earthengine-api in /usr/local/lib/python3.6/dist-packages (from eemont) (0.1.238)\n",
            "Requirement already satisfied: numpy in /usr/local/lib/python3.6/dist-packages (from eemont) (1.19.5)\n",
            "Requirement already satisfied: pandas in /usr/local/lib/python3.6/dist-packages (from eemont) (1.1.5)\n",
            "Requirement already satisfied: google-auth-httplib2>=0.0.3 in /usr/local/lib/python3.6/dist-packages (from earthengine-api->eemont) (0.0.4)\n",
            "Requirement already satisfied: google-cloud-storage in /usr/local/lib/python3.6/dist-packages (from earthengine-api->eemont) (1.18.1)\n",
            "Requirement already satisfied: google-api-python-client in /usr/local/lib/python3.6/dist-packages (from earthengine-api->eemont) (1.7.12)\n",
            "Requirement already satisfied: google-auth>=1.4.1 in /usr/local/lib/python3.6/dist-packages (from earthengine-api->eemont) (1.25.0)\n",
            "Requirement already satisfied: httplib2<1dev,>=0.9.2 in /usr/local/lib/python3.6/dist-packages (from earthengine-api->eemont) (0.17.4)\n",
            "Requirement already satisfied: future in /usr/local/lib/python3.6/dist-packages (from earthengine-api->eemont) (0.16.0)\n",
            "Requirement already satisfied: six in /usr/local/lib/python3.6/dist-packages (from earthengine-api->eemont) (1.15.0)\n",
            "Requirement already satisfied: httplib2shim in /usr/local/lib/python3.6/dist-packages (from earthengine-api->eemont) (0.0.3)\n",
            "Requirement already satisfied: python-dateutil>=2.7.3 in /usr/local/lib/python3.6/dist-packages (from pandas->eemont) (2.8.1)\n",
            "Requirement already satisfied: pytz>=2017.2 in /usr/local/lib/python3.6/dist-packages (from pandas->eemont) (2018.9)\n",
            "Requirement already satisfied: google-cloud-core<2.0dev,>=1.0.0 in /usr/local/lib/python3.6/dist-packages (from google-cloud-storage->earthengine-api->eemont) (1.0.3)\n",
            "Requirement already satisfied: google-resumable-media<0.5.0dev,>=0.3.1 in /usr/local/lib/python3.6/dist-packages (from google-cloud-storage->earthengine-api->eemont) (0.4.1)\n",
            "Requirement already satisfied: uritemplate<4dev,>=3.0.0 in /usr/local/lib/python3.6/dist-packages (from google-api-python-client->earthengine-api->eemont) (3.0.1)\n",
            "Requirement already satisfied: setuptools>=40.3.0 in /usr/local/lib/python3.6/dist-packages (from google-auth>=1.4.1->earthengine-api->eemont) (53.0.0)\n",
            "Requirement already satisfied: cachetools<5.0,>=2.0.0 in /usr/local/lib/python3.6/dist-packages (from google-auth>=1.4.1->earthengine-api->eemont) (4.2.1)\n",
            "Requirement already satisfied: pyasn1-modules>=0.2.1 in /usr/local/lib/python3.6/dist-packages (from google-auth>=1.4.1->earthengine-api->eemont) (0.2.8)\n",
            "Requirement already satisfied: rsa<5,>=3.1.4; python_version >= \"3.6\" in /usr/local/lib/python3.6/dist-packages (from google-auth>=1.4.1->earthengine-api->eemont) (4.7)\n",
            "Requirement already satisfied: urllib3 in /usr/local/lib/python3.6/dist-packages (from httplib2shim->earthengine-api->eemont) (1.24.3)\n",
            "Requirement already satisfied: certifi in /usr/local/lib/python3.6/dist-packages (from httplib2shim->earthengine-api->eemont) (2020.12.5)\n",
            "Requirement already satisfied: google-api-core<2.0.0dev,>=1.14.0 in /usr/local/lib/python3.6/dist-packages (from google-cloud-core<2.0dev,>=1.0.0->google-cloud-storage->earthengine-api->eemont) (1.16.0)\n",
            "Requirement already satisfied: pyasn1<0.5.0,>=0.4.6 in /usr/local/lib/python3.6/dist-packages (from pyasn1-modules>=0.2.1->google-auth>=1.4.1->earthengine-api->eemont) (0.4.8)\n",
            "Requirement already satisfied: protobuf>=3.4.0 in /usr/local/lib/python3.6/dist-packages (from google-api-core<2.0.0dev,>=1.14.0->google-cloud-core<2.0dev,>=1.0.0->google-cloud-storage->earthengine-api->eemont) (3.12.4)\n",
            "Requirement already satisfied: requests<3.0.0dev,>=2.18.0 in /usr/local/lib/python3.6/dist-packages (from google-api-core<2.0.0dev,>=1.14.0->google-cloud-core<2.0dev,>=1.0.0->google-cloud-storage->earthengine-api->eemont) (2.23.0)\n",
            "Requirement already satisfied: googleapis-common-protos<2.0dev,>=1.6.0 in /usr/local/lib/python3.6/dist-packages (from google-api-core<2.0.0dev,>=1.14.0->google-cloud-core<2.0dev,>=1.0.0->google-cloud-storage->earthengine-api->eemont) (1.52.0)\n",
            "Requirement already satisfied: idna<3,>=2.5 in /usr/local/lib/python3.6/dist-packages (from requests<3.0.0dev,>=2.18.0->google-api-core<2.0.0dev,>=1.14.0->google-cloud-core<2.0dev,>=1.0.0->google-cloud-storage->earthengine-api->eemont) (2.10)\n",
            "Requirement already satisfied: chardet<4,>=3.0.2 in /usr/local/lib/python3.6/dist-packages (from requests<3.0.0dev,>=2.18.0->google-api-core<2.0.0dev,>=1.14.0->google-cloud-core<2.0dev,>=1.0.0->google-cloud-storage->earthengine-api->eemont) (3.0.4)\n",
            "Building wheels for collected packages: eemont\n",
            "  Building wheel for eemont (setup.py) ... \u001b[?25l\u001b[?25hdone\n",
            "  Created wheel for eemont: filename=eemont-0.1.7-cp36-none-any.whl size=16387 sha256=a8631655523ad80eef55ac8ef98114eff96b09f353806bb790b1cb5cb5d9d73e\n",
            "  Stored in directory: /root/.cache/pip/wheels/ca/ba/9a/3fc1205f53a16e573daef50a4db1d759940ad173acca050589\n",
            "Successfully built eemont\n",
            "Installing collected packages: eemont\n",
            "Successfully installed eemont-0.1.7\n",
            "Collecting geemap\n",
            "\u001b[?25l  Downloading https://files.pythonhosted.org/packages/9e/00/7619b88865fdf53fea2385ff1a230dcfd76c665e64490d177a2e17ca4dd9/geemap-0.8.9-py2.py3-none-any.whl (395kB)\n",
            "\u001b[K     |████████████████████████████████| 399kB 5.5MB/s \n",
            "\u001b[?25hCollecting geeadd>=0.5.1\n",
            "  Downloading https://files.pythonhosted.org/packages/b7/c8/9725d6bf0cfe8c314ba5d4728e4e473f968814e5697c343fd08881e1c9d4/geeadd-0.5.3-py3-none-any.whl\n",
            "Collecting mss\n",
            "\u001b[?25l  Downloading https://files.pythonhosted.org/packages/d7/5f/77dece686b8d08a17430e169e936722693712b8cf1ee638caa8b1cb6452b/mss-6.1.0-py3-none-any.whl (76kB)\n",
            "\u001b[K     |████████████████████████████████| 81kB 5.8MB/s \n",
            "\u001b[?25hCollecting pycrs\n",
            "  Downloading https://files.pythonhosted.org/packages/50/0b/33c6ab39701d982eabfdc732d920862d79d7598893c7291c5f6ec1e66d3c/PyCRS-1.0.2.tar.gz\n",
            "Collecting ipynb-py-convert\n",
            "  Downloading https://files.pythonhosted.org/packages/43/90/37ff1b9f553583e60c327e1ea8cbfea469c38c9d8791ad1f7ee6d3482efa/ipynb-py-convert-0.4.6.tar.gz\n",
            "Collecting ffmpeg-python\n",
            "  Downloading https://files.pythonhosted.org/packages/d7/0c/56be52741f75bad4dc6555991fabd2e07b432d333da82c11ad701123888a/ffmpeg_python-0.2.0-py3-none-any.whl\n",
            "Collecting folium>=0.11.0\n",
            "\u001b[?25l  Downloading https://files.pythonhosted.org/packages/c3/83/e8cb37afc2f016a1cf4caab8d22caf7fe4156c4c15230d8abc9c83547e0c/folium-0.12.1-py2.py3-none-any.whl (94kB)\n",
            "\u001b[K     |████████████████████████████████| 102kB 5.2MB/s \n",
            "\u001b[?25hCollecting ipyevents\n",
            "\u001b[?25l  Downloading https://files.pythonhosted.org/packages/08/09/d82f7a20c7b036a0b160c80c2e968e6fd569f8cb23400f053842def96120/ipyevents-0.8.1-py2.py3-none-any.whl (150kB)\n",
            "\u001b[K     |████████████████████████████████| 153kB 7.7MB/s \n",
            "\u001b[?25hCollecting colour\n",
            "  Downloading https://files.pythonhosted.org/packages/74/46/e81907704ab203206769dee1385dc77e1407576ff8f50a0681d0a6b541be/colour-0.1.5-py2.py3-none-any.whl\n",
            "Requirement already satisfied: pillow in /usr/local/lib/python3.6/dist-packages (from geemap) (7.0.0)\n",
            "Requirement already satisfied: matplotlib in /usr/local/lib/python3.6/dist-packages (from geemap) (3.2.2)\n",
            "Collecting whiteboxgui\n",
            "  Downloading https://files.pythonhosted.org/packages/3e/9d/71e9192f4c748b29efe8beecd5a88300a654e2a87b856c7a3bb91fdbe606/whiteboxgui-0.1.9-py2.py3-none-any.whl\n",
            "Requirement already satisfied: click in /usr/local/lib/python3.6/dist-packages (from geemap) (7.1.2)\n",
            "Requirement already satisfied: earthengine-api>=0.1.230 in /usr/local/lib/python3.6/dist-packages (from geemap) (0.1.238)\n",
            "Collecting pyshp\n",
            "\u001b[?25l  Downloading https://files.pythonhosted.org/packages/38/85/fbf87e7aa55103e0d06af756bdbc15cf821fa580414c23142d60a35d4f85/pyshp-2.1.3.tar.gz (219kB)\n",
            "\u001b[K     |████████████████████████████████| 225kB 8.1MB/s \n",
            "\u001b[?25hRequirement already satisfied: numpy in /usr/local/lib/python3.6/dist-packages (from geemap) (1.19.5)\n",
            "Collecting ipyleaflet<=0.13.3\n",
            "\u001b[?25l  Downloading https://files.pythonhosted.org/packages/a0/9d/f411b8a9522f1710f278c60b2cd8d26817d8c64b7568de95f9437db6caf0/ipyleaflet-0.13.3-py2.py3-none-any.whl (5.1MB)\n",
            "\u001b[K     |████████████████████████████████| 5.1MB 8.8MB/s \n",
            "\u001b[?25hCollecting ipytree\n",
            "\u001b[?25l  Downloading https://files.pythonhosted.org/packages/36/2f/f93092e485afc384b4cc39f17ff1cb252380a3745bb4a7e2f6e488e3d0c4/ipytree-0.1.8-py2.py3-none-any.whl (1.1MB)\n",
            "\u001b[K     |████████████████████████████████| 1.1MB 38.8MB/s \n",
            "\u001b[?25hCollecting bqplot\n",
            "\u001b[?25l  Downloading https://files.pythonhosted.org/packages/35/d9/0108272437d6319d86352ddbf52c45862bed27c995a45017c12d007d1446/bqplot-0.12.22-py2.py3-none-any.whl (3.3MB)\n",
            "\u001b[K     |████████████████████████████████| 3.3MB 46.0MB/s \n",
            "\u001b[?25hCollecting geocoder\n",
            "\u001b[?25l  Downloading https://files.pythonhosted.org/packages/4f/6b/13166c909ad2f2d76b929a4227c952630ebaf0d729f6317eb09cbceccbab/geocoder-1.38.1-py2.py3-none-any.whl (98kB)\n",
            "\u001b[K     |████████████████████████████████| 102kB 10.3MB/s \n",
            "\u001b[?25hCollecting ipyfilechooser\n",
            "  Downloading https://files.pythonhosted.org/packages/21/30/8a2309b89c2225adda85b232ebb1aa94efc78cb9db12129ae9c37bf19d49/ipyfilechooser-0.4.2-py3-none-any.whl\n",
            "Collecting voila\n",
            "\u001b[?25l  Downloading https://files.pythonhosted.org/packages/4e/3d/7a669360baf7f9cb3e327b4ec47f56a5e04c102c6c524c07a5dff2fa8552/voila-0.2.6-py3-none-any.whl (1.9MB)\n",
            "\u001b[K     |████████████████████████████████| 1.9MB 43.8MB/s \n",
            "\u001b[?25hRequirement already satisfied: pandas in /usr/local/lib/python3.6/dist-packages (from geemap) (1.1.5)\n",
            "Requirement already satisfied: requests>=2.22.0 in /usr/local/lib/python3.6/dist-packages (from geeadd>=0.5.1->geemap) (2.23.0)\n",
            "Collecting beautifulsoup4>=4.9.0\n",
            "\u001b[?25l  Downloading https://files.pythonhosted.org/packages/d1/41/e6495bd7d3781cee623ce23ea6ac73282a373088fcd0ddc809a047b18eae/beautifulsoup4-4.9.3-py3-none-any.whl (115kB)\n",
            "\u001b[K     |████████████████████████████████| 122kB 59.1MB/s \n",
            "\u001b[?25hCollecting logzero>=1.5.0\n",
            "  Downloading https://files.pythonhosted.org/packages/7e/f7/369920be5b4e9c1a05f5e10bae62b1eca4e01b0b235541865ff53f4d2b6a/logzero-1.6.3-py2.py3-none-any.whl\n",
            "Requirement already satisfied: future in /usr/local/lib/python3.6/dist-packages (from ffmpeg-python->geemap) (0.16.0)\n",
            "Requirement already satisfied: branca>=0.3.0 in /usr/local/lib/python3.6/dist-packages (from folium>=0.11.0->geemap) (0.4.2)\n",
            "Requirement already satisfied: jinja2>=2.9 in /usr/local/lib/python3.6/dist-packages (from folium>=0.11.0->geemap) (2.11.3)\n",
            "Requirement already satisfied: ipywidgets>=7.0.0 in /usr/local/lib/python3.6/dist-packages (from ipyevents->geemap) (7.6.3)\n",
            "Requirement already satisfied: python-dateutil>=2.1 in /usr/local/lib/python3.6/dist-packages (from matplotlib->geemap) (2.8.1)\n",
            "Requirement already satisfied: cycler>=0.10 in /usr/local/lib/python3.6/dist-packages (from matplotlib->geemap) (0.10.0)\n",
            "Requirement already satisfied: pyparsing!=2.0.4,!=2.1.2,!=2.1.6,>=2.0.1 in /usr/local/lib/python3.6/dist-packages (from matplotlib->geemap) (2.4.7)\n",
            "Requirement already satisfied: kiwisolver>=1.0.1 in /usr/local/lib/python3.6/dist-packages (from matplotlib->geemap) (1.3.1)\n",
            "Collecting whitebox\n",
            "\u001b[?25l  Downloading https://files.pythonhosted.org/packages/9e/80/72ddfe55b9fad2909c3befb6360c38b6bf5fb131197c390d01109aaaa6f8/whitebox-1.4.0-py2.py3-none-any.whl (63kB)\n",
            "\u001b[K     |████████████████████████████████| 71kB 7.8MB/s \n",
            "\u001b[?25hRequirement already satisfied: google-auth-httplib2>=0.0.3 in /usr/local/lib/python3.6/dist-packages (from earthengine-api>=0.1.230->geemap) (0.0.4)\n",
            "Requirement already satisfied: httplib2<1dev,>=0.9.2 in /usr/local/lib/python3.6/dist-packages (from earthengine-api>=0.1.230->geemap) (0.17.4)\n",
            "Requirement already satisfied: google-auth>=1.4.1 in /usr/local/lib/python3.6/dist-packages (from earthengine-api>=0.1.230->geemap) (1.25.0)\n",
            "Requirement already satisfied: google-cloud-storage in /usr/local/lib/python3.6/dist-packages (from earthengine-api>=0.1.230->geemap) (1.18.1)\n",
            "Requirement already satisfied: six in /usr/local/lib/python3.6/dist-packages (from earthengine-api>=0.1.230->geemap) (1.15.0)\n",
            "Requirement already satisfied: httplib2shim in /usr/local/lib/python3.6/dist-packages (from earthengine-api>=0.1.230->geemap) (0.0.3)\n",
            "Requirement already satisfied: google-api-python-client in /usr/local/lib/python3.6/dist-packages (from earthengine-api>=0.1.230->geemap) (1.7.12)\n",
            "Collecting traittypes<3,>=0.2.1\n",
            "  Downloading https://files.pythonhosted.org/packages/9c/d1/8d5bd662703cc1764d986f6908a608777305946fa634d34c470cd4a1e729/traittypes-0.2.1-py2.py3-none-any.whl\n",
            "Requirement already satisfied: traitlets>=4.3.0 in /usr/local/lib/python3.6/dist-packages (from bqplot->geemap) (4.3.3)\n",
            "Collecting ratelim\n",
            "  Downloading https://files.pythonhosted.org/packages/f2/98/7e6d147fd16a10a5f821db6e25f192265d6ecca3d82957a4fdd592cad49c/ratelim-0.1.6-py2.py3-none-any.whl\n",
            "Collecting jupyter-server<2.0.0,>=0.3.0\n",
            "\u001b[?25l  Downloading https://files.pythonhosted.org/packages/32/e9/924ae8b645ab12799de625d561ca9d47b617509cf7cf04e88d1bac3b08ec/jupyter_server-1.3.0-py3-none-any.whl (188kB)\n",
            "\u001b[K     |████████████████████████████████| 194kB 54.1MB/s \n",
            "\u001b[?25hCollecting jupyter-client<7,>=6.1.3\n",
            "\u001b[?25l  Downloading https://files.pythonhosted.org/packages/83/d6/30aed7ef13ff3f359e99626c1b0a32ebbc3bf9b9d5616ec46e9e245d5fa9/jupyter_client-6.1.11-py3-none-any.whl (108kB)\n",
            "\u001b[K     |████████████████████████████████| 112kB 49.6MB/s \n",
            "\u001b[?25hRequirement already satisfied: nbclient<0.6,>=0.4.0 in /usr/local/lib/python3.6/dist-packages (from voila->geemap) (0.5.2)\n",
            "Collecting nbconvert<7,>=6.0.0\n",
            "\u001b[?25l  Downloading https://files.pythonhosted.org/packages/13/2f/acbe7006548f3914456ee47f97a2033b1b2f3daf921b12ac94105d87c163/nbconvert-6.0.7-py3-none-any.whl (552kB)\n",
            "\u001b[K     |████████████████████████████████| 552kB 54.0MB/s \n",
            "\u001b[?25hRequirement already satisfied: pytz>=2017.2 in /usr/local/lib/python3.6/dist-packages (from pandas->geemap) (2018.9)\n",
            "Requirement already satisfied: certifi>=2017.4.17 in /usr/local/lib/python3.6/dist-packages (from requests>=2.22.0->geeadd>=0.5.1->geemap) (2020.12.5)\n",
            "Requirement already satisfied: idna<3,>=2.5 in /usr/local/lib/python3.6/dist-packages (from requests>=2.22.0->geeadd>=0.5.1->geemap) (2.10)\n",
            "Requirement already satisfied: urllib3!=1.25.0,!=1.25.1,<1.26,>=1.21.1 in /usr/local/lib/python3.6/dist-packages (from requests>=2.22.0->geeadd>=0.5.1->geemap) (1.24.3)\n",
            "Requirement already satisfied: chardet<4,>=3.0.2 in /usr/local/lib/python3.6/dist-packages (from requests>=2.22.0->geeadd>=0.5.1->geemap) (3.0.4)\n",
            "Collecting soupsieve>1.2; python_version >= \"3.0\"\n",
            "  Downloading https://files.pythonhosted.org/packages/41/e7/3617a4b988ed7744743fb0dbba5aa0a6e3f95a9557b43f8c4740d296b48a/soupsieve-2.2-py3-none-any.whl\n",
            "Requirement already satisfied: MarkupSafe>=0.23 in /usr/local/lib/python3.6/dist-packages (from jinja2>=2.9->folium>=0.11.0->geemap) (1.1.1)\n",
            "Requirement already satisfied: widgetsnbextension~=3.5.0 in /usr/local/lib/python3.6/dist-packages (from ipywidgets>=7.0.0->ipyevents->geemap) (3.5.1)\n",
            "Requirement already satisfied: nbformat>=4.2.0 in /usr/local/lib/python3.6/dist-packages (from ipywidgets>=7.0.0->ipyevents->geemap) (5.1.2)\n",
            "Requirement already satisfied: jupyterlab-widgets>=1.0.0; python_version >= \"3.6\" in /usr/local/lib/python3.6/dist-packages (from ipywidgets>=7.0.0->ipyevents->geemap) (1.0.0)\n",
            "Requirement already satisfied: ipykernel>=4.5.1 in /usr/local/lib/python3.6/dist-packages (from ipywidgets>=7.0.0->ipyevents->geemap) (4.10.1)\n",
            "Requirement already satisfied: ipython>=4.0.0; python_version >= \"3.3\" in /usr/local/lib/python3.6/dist-packages (from ipywidgets>=7.0.0->ipyevents->geemap) (5.5.0)\n",
            "Requirement already satisfied: pyasn1-modules>=0.2.1 in /usr/local/lib/python3.6/dist-packages (from google-auth>=1.4.1->earthengine-api>=0.1.230->geemap) (0.2.8)\n",
            "Requirement already satisfied: setuptools>=40.3.0 in /usr/local/lib/python3.6/dist-packages (from google-auth>=1.4.1->earthengine-api>=0.1.230->geemap) (53.0.0)\n",
            "Requirement already satisfied: rsa<5,>=3.1.4; python_version >= \"3.6\" in /usr/local/lib/python3.6/dist-packages (from google-auth>=1.4.1->earthengine-api>=0.1.230->geemap) (4.7)\n",
            "Requirement already satisfied: cachetools<5.0,>=2.0.0 in /usr/local/lib/python3.6/dist-packages (from google-auth>=1.4.1->earthengine-api>=0.1.230->geemap) (4.2.1)\n",
            "Requirement already satisfied: google-resumable-media<0.5.0dev,>=0.3.1 in /usr/local/lib/python3.6/dist-packages (from google-cloud-storage->earthengine-api>=0.1.230->geemap) (0.4.1)\n",
            "Requirement already satisfied: google-cloud-core<2.0dev,>=1.0.0 in /usr/local/lib/python3.6/dist-packages (from google-cloud-storage->earthengine-api>=0.1.230->geemap) (1.0.3)\n",
            "Requirement already satisfied: uritemplate<4dev,>=3.0.0 in /usr/local/lib/python3.6/dist-packages (from google-api-python-client->earthengine-api>=0.1.230->geemap) (3.0.1)\n",
            "Requirement already satisfied: ipython-genutils in /usr/local/lib/python3.6/dist-packages (from traitlets>=4.3.0->bqplot->geemap) (0.2.0)\n",
            "Requirement already satisfied: decorator in /usr/local/lib/python3.6/dist-packages (from traitlets>=4.3.0->bqplot->geemap) (4.4.2)\n",
            "Collecting anyio>=2.0.2\n",
            "\u001b[?25l  Downloading https://files.pythonhosted.org/packages/b4/e5/a5aaca991a72839ea76162e81b48377db444d9ab3d32ccdaa267417ce0e9/anyio-2.1.0-py3-none-any.whl (64kB)\n",
            "\u001b[K     |████████████████████████████████| 71kB 8.8MB/s \n",
            "\u001b[?25hRequirement already satisfied: jupyter-core>=4.4.0 in /usr/local/lib/python3.6/dist-packages (from jupyter-server<2.0.0,>=0.3.0->voila->geemap) (4.7.1)\n",
            "Requirement already satisfied: terminado>=0.8.3 in /usr/local/lib/python3.6/dist-packages (from jupyter-server<2.0.0,>=0.3.0->voila->geemap) (0.9.2)\n",
            "Requirement already satisfied: pyzmq>=17 in /usr/local/lib/python3.6/dist-packages (from jupyter-server<2.0.0,>=0.3.0->voila->geemap) (22.0.2)\n",
            "Requirement already satisfied: Send2Trash in /usr/local/lib/python3.6/dist-packages (from jupyter-server<2.0.0,>=0.3.0->voila->geemap) (1.5.0)\n",
            "Collecting tornado>=6.1.0\n",
            "\u001b[?25l  Downloading https://files.pythonhosted.org/packages/85/26/e710295dcb4aac62b08f22d07efc899574476db37532159a7f71713cdaf2/tornado-6.1-cp36-cp36m-manylinux2010_x86_64.whl (427kB)\n",
            "\u001b[K     |████████████████████████████████| 430kB 44.4MB/s \n",
            "\u001b[?25hRequirement already satisfied: prometheus-client in /usr/local/lib/python3.6/dist-packages (from jupyter-server<2.0.0,>=0.3.0->voila->geemap) (0.9.0)\n",
            "Requirement already satisfied: nest-asyncio in /usr/local/lib/python3.6/dist-packages (from nbclient<0.6,>=0.4.0->voila->geemap) (1.5.1)\n",
            "Requirement already satisfied: async-generator in /usr/local/lib/python3.6/dist-packages (from nbclient<0.6,>=0.4.0->voila->geemap) (1.10)\n",
            "Requirement already satisfied: pygments>=2.4.1 in /usr/local/lib/python3.6/dist-packages (from nbconvert<7,>=6.0.0->voila->geemap) (2.6.1)\n",
            "Requirement already satisfied: defusedxml in /usr/local/lib/python3.6/dist-packages (from nbconvert<7,>=6.0.0->voila->geemap) (0.6.0)\n",
            "Requirement already satisfied: testpath in /usr/local/lib/python3.6/dist-packages (from nbconvert<7,>=6.0.0->voila->geemap) (0.4.4)\n",
            "Requirement already satisfied: mistune<2,>=0.8.1 in /usr/local/lib/python3.6/dist-packages (from nbconvert<7,>=6.0.0->voila->geemap) (0.8.4)\n",
            "Requirement already satisfied: jupyterlab-pygments in /usr/local/lib/python3.6/dist-packages (from nbconvert<7,>=6.0.0->voila->geemap) (0.1.2)\n",
            "Requirement already satisfied: entrypoints>=0.2.2 in /usr/local/lib/python3.6/dist-packages (from nbconvert<7,>=6.0.0->voila->geemap) (0.3)\n",
            "Requirement already satisfied: bleach in /usr/local/lib/python3.6/dist-packages (from nbconvert<7,>=6.0.0->voila->geemap) (3.3.0)\n",
            "Requirement already satisfied: pandocfilters>=1.4.1 in /usr/local/lib/python3.6/dist-packages (from nbconvert<7,>=6.0.0->voila->geemap) (1.4.3)\n",
            "Requirement already satisfied: notebook>=4.4.1 in /usr/local/lib/python3.6/dist-packages (from widgetsnbextension~=3.5.0->ipywidgets>=7.0.0->ipyevents->geemap) (5.3.1)\n",
            "Requirement already satisfied: jsonschema!=2.5.0,>=2.4 in /usr/local/lib/python3.6/dist-packages (from nbformat>=4.2.0->ipywidgets>=7.0.0->ipyevents->geemap) (2.6.0)\n",
            "Requirement already satisfied: simplegeneric>0.8 in /usr/local/lib/python3.6/dist-packages (from ipython>=4.0.0; python_version >= \"3.3\"->ipywidgets>=7.0.0->ipyevents->geemap) (0.8.1)\n",
            "Requirement already satisfied: pexpect; sys_platform != \"win32\" in /usr/local/lib/python3.6/dist-packages (from ipython>=4.0.0; python_version >= \"3.3\"->ipywidgets>=7.0.0->ipyevents->geemap) (4.8.0)\n",
            "Requirement already satisfied: pickleshare in /usr/local/lib/python3.6/dist-packages (from ipython>=4.0.0; python_version >= \"3.3\"->ipywidgets>=7.0.0->ipyevents->geemap) (0.7.5)\n",
            "Requirement already satisfied: prompt-toolkit<2.0.0,>=1.0.4 in /usr/local/lib/python3.6/dist-packages (from ipython>=4.0.0; python_version >= \"3.3\"->ipywidgets>=7.0.0->ipyevents->geemap) (1.0.18)\n",
            "Requirement already satisfied: pyasn1<0.5.0,>=0.4.6 in /usr/local/lib/python3.6/dist-packages (from pyasn1-modules>=0.2.1->google-auth>=1.4.1->earthengine-api>=0.1.230->geemap) (0.4.8)\n",
            "Requirement already satisfied: google-api-core<2.0.0dev,>=1.14.0 in /usr/local/lib/python3.6/dist-packages (from google-cloud-core<2.0dev,>=1.0.0->google-cloud-storage->earthengine-api>=0.1.230->geemap) (1.16.0)\n",
            "Requirement already satisfied: dataclasses; python_version < \"3.7\" in /usr/local/lib/python3.6/dist-packages (from anyio>=2.0.2->jupyter-server<2.0.0,>=0.3.0->voila->geemap) (0.8)\n",
            "Collecting sniffio>=1.1\n",
            "  Downloading https://files.pythonhosted.org/packages/52/b0/7b2e028b63d092804b6794595871f936aafa5e9322dcaaad50ebf67445b3/sniffio-1.2.0-py3-none-any.whl\n",
            "Requirement already satisfied: typing-extensions; python_version < \"3.8\" in /usr/local/lib/python3.6/dist-packages (from anyio>=2.0.2->jupyter-server<2.0.0,>=0.3.0->voila->geemap) (3.7.4.3)\n",
            "Requirement already satisfied: ptyprocess; os_name != \"nt\" in /usr/local/lib/python3.6/dist-packages (from terminado>=0.8.3->jupyter-server<2.0.0,>=0.3.0->voila->geemap) (0.7.0)\n",
            "Requirement already satisfied: webencodings in /usr/local/lib/python3.6/dist-packages (from bleach->nbconvert<7,>=6.0.0->voila->geemap) (0.5.1)\n",
            "Requirement already satisfied: packaging in /usr/local/lib/python3.6/dist-packages (from bleach->nbconvert<7,>=6.0.0->voila->geemap) (20.9)\n",
            "Requirement already satisfied: wcwidth in /usr/local/lib/python3.6/dist-packages (from prompt-toolkit<2.0.0,>=1.0.4->ipython>=4.0.0; python_version >= \"3.3\"->ipywidgets>=7.0.0->ipyevents->geemap) (0.2.5)\n",
            "Requirement already satisfied: protobuf>=3.4.0 in /usr/local/lib/python3.6/dist-packages (from google-api-core<2.0.0dev,>=1.14.0->google-cloud-core<2.0dev,>=1.0.0->google-cloud-storage->earthengine-api>=0.1.230->geemap) (3.12.4)\n",
            "Requirement already satisfied: googleapis-common-protos<2.0dev,>=1.6.0 in /usr/local/lib/python3.6/dist-packages (from google-api-core<2.0.0dev,>=1.14.0->google-cloud-core<2.0dev,>=1.0.0->google-cloud-storage->earthengine-api>=0.1.230->geemap) (1.52.0)\n",
            "Collecting contextvars>=2.1; python_version < \"3.7\"\n",
            "  Downloading https://files.pythonhosted.org/packages/83/96/55b82d9f13763be9d672622e1b8106c85acb83edd7cc2fa5bc67cd9877e9/contextvars-2.4.tar.gz\n",
            "Collecting immutables>=0.9\n",
            "\u001b[?25l  Downloading https://files.pythonhosted.org/packages/4a/52/e64a14a99c509cbdfe0405e9f076aef0331cb9548a3efa1d5bacd524978a/immutables-0.15-cp36-cp36m-manylinux1_x86_64.whl (100kB)\n",
            "\u001b[K     |████████████████████████████████| 102kB 10.1MB/s \n",
            "\u001b[?25hBuilding wheels for collected packages: pycrs, ipynb-py-convert, pyshp, contextvars\n",
            "  Building wheel for pycrs (setup.py) ... \u001b[?25l\u001b[?25hdone\n",
            "  Created wheel for pycrs: filename=PyCRS-1.0.2-cp36-none-any.whl size=32684 sha256=ac48e20775d45242ae6305f3255e104c8e37c36f5991457805c069579e1a3689\n",
            "  Stored in directory: /root/.cache/pip/wheels/1a/c9/56/648f762bd41fdb03454be51b8a7069795925168833cb61f316\n",
            "  Building wheel for ipynb-py-convert (setup.py) ... \u001b[?25l\u001b[?25hdone\n",
            "  Created wheel for ipynb-py-convert: filename=ipynb_py_convert-0.4.6-cp36-none-any.whl size=4625 sha256=ef9437bd67a73b04cc19e7d4b365ea959cc9ecfe8d2f14a9591a0fc1059e0e0b\n",
            "  Stored in directory: /root/.cache/pip/wheels/80/dc/7c/a7279f7726d66951fe48d5afd45247bcf5bf92c98282e4e78e\n",
            "  Building wheel for pyshp (setup.py) ... \u001b[?25l\u001b[?25hdone\n",
            "  Created wheel for pyshp: filename=pyshp-2.1.3-cp36-none-any.whl size=37264 sha256=84683c79e763d8bcfb20ec74d9e23025a1bdeb6d64fc564767cd18f1be500b86\n",
            "  Stored in directory: /root/.cache/pip/wheels/76/2b/d4/53e6b9a0fb0a9f9f29664cf82605af8bc81d5ab44d987896dd\n",
            "  Building wheel for contextvars (setup.py) ... \u001b[?25l\u001b[?25hdone\n",
            "  Created wheel for contextvars: filename=contextvars-2.4-cp36-none-any.whl size=7667 sha256=84ed372aa95e4753d05c7c47f6a16168f5684785fce213b425fa39377ce9b9e6\n",
            "  Stored in directory: /root/.cache/pip/wheels/a5/7d/68/1ebae2668bda2228686e3c1cf16f2c2384cea6e9334ad5f6de\n",
            "Successfully built pycrs ipynb-py-convert pyshp contextvars\n",
            "\u001b[31mERROR: google-colab 1.0.0 has requirement tornado~=5.1.0; python_version >= \"3.0\", but you'll have tornado 6.1 which is incompatible.\u001b[0m\n",
            "\u001b[31mERROR: datascience 0.10.6 has requirement folium==0.2.1, but you'll have folium 0.12.1 which is incompatible.\u001b[0m\n",
            "Installing collected packages: soupsieve, beautifulsoup4, logzero, geeadd, mss, pycrs, ipynb-py-convert, ffmpeg-python, folium, ipyevents, colour, ipyfilechooser, ipytree, whitebox, whiteboxgui, pyshp, traittypes, ipyleaflet, bqplot, ratelim, geocoder, immutables, contextvars, sniffio, anyio, tornado, jupyter-client, nbconvert, jupyter-server, voila, geemap\n",
            "  Found existing installation: beautifulsoup4 4.6.3\n",
            "    Uninstalling beautifulsoup4-4.6.3:\n",
            "      Successfully uninstalled beautifulsoup4-4.6.3\n",
            "  Found existing installation: folium 0.8.3\n",
            "    Uninstalling folium-0.8.3:\n",
            "      Successfully uninstalled folium-0.8.3\n",
            "  Found existing installation: tornado 5.1.1\n",
            "    Uninstalling tornado-5.1.1:\n",
            "      Successfully uninstalled tornado-5.1.1\n",
            "  Found existing installation: jupyter-client 5.3.5\n",
            "    Uninstalling jupyter-client-5.3.5:\n",
            "      Successfully uninstalled jupyter-client-5.3.5\n",
            "  Found existing installation: nbconvert 5.6.1\n",
            "    Uninstalling nbconvert-5.6.1:\n",
            "      Successfully uninstalled nbconvert-5.6.1\n",
            "Successfully installed anyio-2.1.0 beautifulsoup4-4.9.3 bqplot-0.12.22 colour-0.1.5 contextvars-2.4 ffmpeg-python-0.2.0 folium-0.12.1 geeadd-0.5.3 geemap-0.8.9 geocoder-1.38.1 immutables-0.15 ipyevents-0.8.1 ipyfilechooser-0.4.2 ipyleaflet-0.13.3 ipynb-py-convert-0.4.6 ipytree-0.1.8 jupyter-client-6.1.11 jupyter-server-1.3.0 logzero-1.6.3 mss-6.1.0 nbconvert-6.0.7 pycrs-1.0.2 pyshp-2.1.3 ratelim-0.1.6 sniffio-1.2.0 soupsieve-2.2 tornado-6.1 traittypes-0.2.1 voila-0.2.6 whitebox-1.4.0 whiteboxgui-0.1.9\n"
          ],
          "name": "stdout"
        },
        {
          "output_type": "display_data",
          "data": {
            "application/vnd.colab-display-data+json": {
              "pip_warning": {
                "packages": [
                  "jupyter_client",
                  "tornado"
                ]
              }
            }
          },
          "metadata": {
            "tags": []
          }
        }
      ]
    },
    {
      "cell_type": "markdown",
      "metadata": {
        "id": "x3Rm3qt_92Et"
      },
      "source": [
        "Import the required packges."
      ]
    },
    {
      "cell_type": "code",
      "metadata": {
        "id": "H0C9S_Hh92Et"
      },
      "source": [
        "import ee, eemont, datetime, geemap.eefolium as geemap"
      ],
      "execution_count": 2,
      "outputs": []
    },
    {
      "cell_type": "markdown",
      "metadata": {
        "id": "k1sdX2p592Eu"
      },
      "source": [
        "If required (e.g. in Google Colab), please uncomment:"
      ]
    },
    {
      "cell_type": "code",
      "metadata": {
        "id": "sounrvSq92Eu",
        "outputId": "e381e318-a290-4661-dec6-0081261cac69",
        "colab": {
          "base_uri": "https://localhost:8080/"
        }
      },
      "source": [
        "ee.Authenticate()"
      ],
      "execution_count": 5,
      "outputs": [
        {
          "output_type": "stream",
          "text": [
            "To authorize access needed by Earth Engine, open the following URL in a web browser and follow the instructions. If the web browser does not start automatically, please manually browse the URL below.\n",
            "\n",
            "    https://accounts.google.com/o/oauth2/auth?client_id=517222506229-vsmmajv00ul0bs7p89v5m89qs8eb9359.apps.googleusercontent.com&scope=https%3A%2F%2Fwww.googleapis.com%2Fauth%2Fearthengine+https%3A%2F%2Fwww.googleapis.com%2Fauth%2Fdevstorage.full_control&redirect_uri=urn%3Aietf%3Awg%3Aoauth%3A2.0%3Aoob&response_type=code&code_challenge=mkdGbY8JardRhI-s3gu9xIKojHadD7tmz9DZaMKs0T0&code_challenge_method=S256\n",
            "\n",
            "The authorization workflow will generate a code, which you should paste in the box below. \n",
            "Enter verification code: 4/1AY0e-g5T4yBww7RgblWWK0YXFwgOkC1d-eJXWU6NXlF1FeWLApUMZX4tRLQ\n",
            "\n",
            "Successfully saved authorization token.\n"
          ],
          "name": "stdout"
        }
      ]
    },
    {
      "cell_type": "markdown",
      "metadata": {
        "id": "q1eLM9dO92Ex"
      },
      "source": [
        "Initialize Google Earth Engine."
      ]
    },
    {
      "cell_type": "code",
      "metadata": {
        "id": "LojrnTGB92Ex"
      },
      "source": [
        "ee.Initialize()"
      ],
      "execution_count": 7,
      "outputs": []
    },
    {
      "cell_type": "markdown",
      "metadata": {
        "id": "FYguKZh892Ey"
      },
      "source": [
        "Get and filter the image collection."
      ]
    },
    {
      "cell_type": "code",
      "metadata": {
        "id": "sBmM9kZn92Ez"
      },
      "source": [
        "MOD16A2 = ee.ImageCollection('MODIS/006/MOD16A2').select('ET')"
      ],
      "execution_count": 9,
      "outputs": []
    },
    {
      "cell_type": "markdown",
      "metadata": {
        "id": "b1K-heEsO_qe"
      },
      "source": [
        "## Closest Image\n",
        "\n",
        "In order to get the closest image to a specific date, you just have to use the `closest()` method."
      ]
    },
    {
      "cell_type": "code",
      "metadata": {
        "id": "tyiR75rPO_qe"
      },
      "source": [
        "MOD16A2 = MOD16A2.closest('2020-10-16')"
      ],
      "execution_count": 11,
      "outputs": []
    },
    {
      "cell_type": "markdown",
      "metadata": {
        "id": "E5xV3lBqO_qf"
      },
      "source": [
        "This method will return an ee.ImageCollection with all the closest images to that specific date. In this case, one image is retrieved."
      ]
    },
    {
      "cell_type": "code",
      "metadata": {
        "id": "cvJcZK75O_qf"
      },
      "source": [
        "MOD16A2_date = MOD16A2.first().get('system:time_start').getInfo()"
      ],
      "execution_count": 13,
      "outputs": []
    },
    {
      "cell_type": "markdown",
      "metadata": {
        "id": "_vDOdVlyO_qf"
      },
      "source": [
        "The date is retrieved as milliseconds, therefore, we have to convert it to a date object. We'll use `datetime` here:"
      ]
    },
    {
      "cell_type": "code",
      "metadata": {
        "id": "XUTQgnfRO_qg",
        "outputId": "680221df-581e-4315-8926-b94979aa11b6",
        "colab": {
          "base_uri": "https://localhost:8080/"
        }
      },
      "source": [
        "datetime.datetime.fromtimestamp(MOD16A2_date/1000)"
      ],
      "execution_count": 14,
      "outputs": [
        {
          "output_type": "execute_result",
          "data": {
            "text/plain": [
              "datetime.datetime(2020, 10, 15, 0, 0)"
            ]
          },
          "metadata": {
            "tags": []
          },
          "execution_count": 14
        }
      ]
    },
    {
      "cell_type": "markdown",
      "metadata": {
        "id": "uot9c0GTO_qh"
      },
      "source": [
        "## Visualization"
      ]
    },
    {
      "cell_type": "markdown",
      "metadata": {
        "id": "CobnlBc5O_qh"
      },
      "source": [
        "Let's define the visualization parameters:"
      ]
    },
    {
      "cell_type": "code",
      "metadata": {
        "id": "VQGoS6wjO_qi"
      },
      "source": [
        "visParams = {\n",
        "  'min': 0.0,\n",
        "  'max': 300.0,\n",
        "  'palette': [\n",
        "    'ffffff', 'fcd163', '99b718', '66a000', '3e8601', '207401', '056201',\n",
        "    '004c00', '011301'\n",
        "  ],\n",
        "}"
      ],
      "execution_count": 15,
      "outputs": []
    },
    {
      "cell_type": "markdown",
      "metadata": {
        "id": "quBIwQL3O_qi"
      },
      "source": [
        "Use `geemap` to display results:"
      ]
    },
    {
      "cell_type": "code",
      "metadata": {
        "id": "TAKE4iOBO_qi",
        "outputId": "eed3698c-dba8-4b33-d10f-5445fda5dbe5",
        "colab": {
          "base_uri": "https://localhost:8080/",
          "height": 763
        }
      },
      "source": [
        "Map = geemap.Map()\n",
        "Map.addLayer(MOD16A2,visParams,'ET')\n",
        "Map.add_colorbar(visParams['palette'], vmax = 300.0, caption='ET') \n",
        "Map.addLayerControl()\n",
        "Map"
      ],
      "execution_count": 16,
      "outputs": [
        {
          "output_type": "execute_result",
          "data": {
            "text/html": [
              "<div style=\"width:100%;\"><div style=\"position:relative;width:100%;height:0;padding-bottom:60%;\"><span style=\"color:#565656\">Make this Notebook Trusted to load map: File -> Trust Notebook</span><iframe src=\"about:blank\" style=\"position:absolute;width:100%;height:100%;left:0;top:0;border:none !important;\" data-html=%3C%21DOCTYPE%20html%3E%0A%3Chead%3E%20%20%20%20%0A%20%20%20%20%3Cmeta%20http-equiv%3D%22content-type%22%20content%3D%22text/html%3B%20charset%3DUTF-8%22%20/%3E%0A%20%20%20%20%0A%20%20%20%20%20%20%20%20%3Cscript%3E%0A%20%20%20%20%20%20%20%20%20%20%20%20L_NO_TOUCH%20%3D%20false%3B%0A%20%20%20%20%20%20%20%20%20%20%20%20L_DISABLE_3D%20%3D%20false%3B%0A%20%20%20%20%20%20%20%20%3C/script%3E%0A%20%20%20%20%0A%20%20%20%20%3Cstyle%3Ehtml%2C%20body%20%7Bwidth%3A%20100%25%3Bheight%3A%20100%25%3Bmargin%3A%200%3Bpadding%3A%200%3B%7D%3C/style%3E%0A%20%20%20%20%3Cstyle%3E%23map%20%7Bposition%3Aabsolute%3Btop%3A0%3Bbottom%3A0%3Bright%3A0%3Bleft%3A0%3B%7D%3C/style%3E%0A%20%20%20%20%3Cscript%20src%3D%22https%3A//cdn.jsdelivr.net/npm/leaflet%401.6.0/dist/leaflet.js%22%3E%3C/script%3E%0A%20%20%20%20%3Cscript%20src%3D%22https%3A//code.jquery.com/jquery-1.12.4.min.js%22%3E%3C/script%3E%0A%20%20%20%20%3Cscript%20src%3D%22https%3A//maxcdn.bootstrapcdn.com/bootstrap/3.2.0/js/bootstrap.min.js%22%3E%3C/script%3E%0A%20%20%20%20%3Cscript%20src%3D%22https%3A//cdnjs.cloudflare.com/ajax/libs/Leaflet.awesome-markers/2.0.2/leaflet.awesome-markers.js%22%3E%3C/script%3E%0A%20%20%20%20%3Clink%20rel%3D%22stylesheet%22%20href%3D%22https%3A//cdn.jsdelivr.net/npm/leaflet%401.6.0/dist/leaflet.css%22/%3E%0A%20%20%20%20%3Clink%20rel%3D%22stylesheet%22%20href%3D%22https%3A//maxcdn.bootstrapcdn.com/bootstrap/3.2.0/css/bootstrap.min.css%22/%3E%0A%20%20%20%20%3Clink%20rel%3D%22stylesheet%22%20href%3D%22https%3A//maxcdn.bootstrapcdn.com/bootstrap/3.2.0/css/bootstrap-theme.min.css%22/%3E%0A%20%20%20%20%3Clink%20rel%3D%22stylesheet%22%20href%3D%22https%3A//maxcdn.bootstrapcdn.com/font-awesome/4.6.3/css/font-awesome.min.css%22/%3E%0A%20%20%20%20%3Clink%20rel%3D%22stylesheet%22%20href%3D%22https%3A//cdnjs.cloudflare.com/ajax/libs/Leaflet.awesome-markers/2.0.2/leaflet.awesome-markers.css%22/%3E%0A%20%20%20%20%3Clink%20rel%3D%22stylesheet%22%20href%3D%22https%3A//cdn.jsdelivr.net/gh/python-visualization/folium/folium/templates/leaflet.awesome.rotate.min.css%22/%3E%0A%20%20%20%20%0A%20%20%20%20%20%20%20%20%20%20%20%20%3Cmeta%20name%3D%22viewport%22%20content%3D%22width%3Ddevice-width%2C%0A%20%20%20%20%20%20%20%20%20%20%20%20%20%20%20%20initial-scale%3D1.0%2C%20maximum-scale%3D1.0%2C%20user-scalable%3Dno%22%20/%3E%0A%20%20%20%20%20%20%20%20%20%20%20%20%3Cstyle%3E%0A%20%20%20%20%20%20%20%20%20%20%20%20%20%20%20%20%23map_8516ce39d6a449f2b7642061526d2877%20%7B%0A%20%20%20%20%20%20%20%20%20%20%20%20%20%20%20%20%20%20%20%20position%3A%20relative%3B%0A%20%20%20%20%20%20%20%20%20%20%20%20%20%20%20%20%20%20%20%20width%3A%20100.0%25%3B%0A%20%20%20%20%20%20%20%20%20%20%20%20%20%20%20%20%20%20%20%20height%3A%20100.0%25%3B%0A%20%20%20%20%20%20%20%20%20%20%20%20%20%20%20%20%20%20%20%20left%3A%200.0%25%3B%0A%20%20%20%20%20%20%20%20%20%20%20%20%20%20%20%20%20%20%20%20top%3A%200.0%25%3B%0A%20%20%20%20%20%20%20%20%20%20%20%20%20%20%20%20%7D%0A%20%20%20%20%20%20%20%20%20%20%20%20%3C/style%3E%0A%20%20%20%20%20%20%20%20%0A%20%20%20%20%3Cscript%20src%3D%22https%3A//cdnjs.cloudflare.com/ajax/libs/leaflet.fullscreen/1.4.2/Control.FullScreen.min.js%22%3E%3C/script%3E%0A%20%20%20%20%3Clink%20rel%3D%22stylesheet%22%20href%3D%22https%3A//cdnjs.cloudflare.com/ajax/libs/leaflet.fullscreen/1.4.2/Control.FullScreen.min.css%22/%3E%0A%20%20%20%20%3Cscript%20src%3D%22https%3A//cdnjs.cloudflare.com/ajax/libs/d3/3.5.5/d3.min.js%22%3E%3C/script%3E%0A%3C/head%3E%0A%3Cbody%3E%20%20%20%20%0A%20%20%20%20%0A%20%20%20%20%20%20%20%20%20%20%20%20%3Cdiv%20class%3D%22folium-map%22%20id%3D%22map_8516ce39d6a449f2b7642061526d2877%22%20%3E%3C/div%3E%0A%20%20%20%20%20%20%20%20%0A%3C/body%3E%0A%3Cscript%3E%20%20%20%20%0A%20%20%20%20%0A%20%20%20%20%20%20%20%20%20%20%20%20var%20map_8516ce39d6a449f2b7642061526d2877%20%3D%20L.map%28%0A%20%20%20%20%20%20%20%20%20%20%20%20%20%20%20%20%22map_8516ce39d6a449f2b7642061526d2877%22%2C%0A%20%20%20%20%20%20%20%20%20%20%20%20%20%20%20%20%7B%0A%20%20%20%20%20%20%20%20%20%20%20%20%20%20%20%20%20%20%20%20center%3A%20%5B40.0%2C%20-100.0%5D%2C%0A%20%20%20%20%20%20%20%20%20%20%20%20%20%20%20%20%20%20%20%20crs%3A%20L.CRS.EPSG3857%2C%0A%20%20%20%20%20%20%20%20%20%20%20%20%20%20%20%20%20%20%20%20zoom%3A%204%2C%0A%20%20%20%20%20%20%20%20%20%20%20%20%20%20%20%20%20%20%20%20zoomControl%3A%20true%2C%0A%20%20%20%20%20%20%20%20%20%20%20%20%20%20%20%20%20%20%20%20preferCanvas%3A%20false%2C%0A%20%20%20%20%20%20%20%20%20%20%20%20%20%20%20%20%20%20%20%20eeInitialize%3A%20true%2C%0A%20%20%20%20%20%20%20%20%20%20%20%20%20%20%20%20%20%20%20%20addGoogleMap%3A%20true%2C%0A%20%20%20%20%20%20%20%20%20%20%20%20%20%20%20%20%20%20%20%20pluginLatlngpopup%3A%20true%2C%0A%20%20%20%20%20%20%20%20%20%20%20%20%20%20%20%20%20%20%20%20pluginFullscreen%3A%20true%2C%0A%20%20%20%20%20%20%20%20%20%20%20%20%20%20%20%20%20%20%20%20pluginDraw%3A%20false%2C%0A%20%20%20%20%20%20%20%20%20%20%20%20%20%20%20%20%20%20%20%20DrawExport%3A%20true%2C%0A%20%20%20%20%20%20%20%20%20%20%20%20%20%20%20%20%20%20%20%20pluginMinimap%3A%20false%2C%0A%20%20%20%20%20%20%20%20%20%20%20%20%20%20%20%20%20%20%20%20pluginLayercontrol%3A%20false%2C%0A%20%20%20%20%20%20%20%20%20%20%20%20%20%20%20%20%7D%0A%20%20%20%20%20%20%20%20%20%20%20%20%29%3B%0A%0A%20%20%20%20%20%20%20%20%20%20%20%20%0A%0A%20%20%20%20%20%20%20%20%0A%20%20%20%20%0A%20%20%20%20%20%20%20%20%20%20%20%20var%20tile_layer_7d1af8e8863e49e497a8b5c71725d93d%20%3D%20L.tileLayer%28%0A%20%20%20%20%20%20%20%20%20%20%20%20%20%20%20%20%22https%3A//%7Bs%7D.tile.openstreetmap.org/%7Bz%7D/%7Bx%7D/%7By%7D.png%22%2C%0A%20%20%20%20%20%20%20%20%20%20%20%20%20%20%20%20%7B%22attribution%22%3A%20%22Data%20by%20%5Cu0026copy%3B%20%5Cu003ca%20href%3D%5C%22http%3A//openstreetmap.org%5C%22%5Cu003eOpenStreetMap%5Cu003c/a%5Cu003e%2C%20under%20%5Cu003ca%20href%3D%5C%22http%3A//www.openstreetmap.org/copyright%5C%22%5Cu003eODbL%5Cu003c/a%5Cu003e.%22%2C%20%22detectRetina%22%3A%20false%2C%20%22maxNativeZoom%22%3A%2018%2C%20%22maxZoom%22%3A%2018%2C%20%22minZoom%22%3A%200%2C%20%22noWrap%22%3A%20false%2C%20%22opacity%22%3A%201%2C%20%22subdomains%22%3A%20%22abc%22%2C%20%22tms%22%3A%20false%7D%0A%20%20%20%20%20%20%20%20%20%20%20%20%29.addTo%28map_8516ce39d6a449f2b7642061526d2877%29%3B%0A%20%20%20%20%20%20%20%20%0A%20%20%20%20%0A%20%20%20%20%20%20%20%20%20%20%20%20var%20tile_layer_a88e9328c748423c9d98a1b3c447ffb8%20%3D%20L.tileLayer%28%0A%20%20%20%20%20%20%20%20%20%20%20%20%20%20%20%20%22https%3A//mt1.google.com/vt/lyrs%3Dm%5Cu0026x%3D%7Bx%7D%5Cu0026y%3D%7By%7D%5Cu0026z%3D%7Bz%7D%22%2C%0A%20%20%20%20%20%20%20%20%20%20%20%20%20%20%20%20%7B%22attribution%22%3A%20%22Google%22%2C%20%22detectRetina%22%3A%20false%2C%20%22maxNativeZoom%22%3A%2018%2C%20%22maxZoom%22%3A%2018%2C%20%22minZoom%22%3A%200%2C%20%22noWrap%22%3A%20false%2C%20%22opacity%22%3A%201%2C%20%22subdomains%22%3A%20%22abc%22%2C%20%22tms%22%3A%20false%7D%0A%20%20%20%20%20%20%20%20%20%20%20%20%29.addTo%28map_8516ce39d6a449f2b7642061526d2877%29%3B%0A%20%20%20%20%20%20%20%20%0A%20%20%20%20%0A%20%20%20%20%20%20%20%20%20%20%20%20%20%20%20%20var%20lat_lng_popup_87202c9a4adb49c7a7041843ad62852f%20%3D%20L.popup%28%29%3B%0A%20%20%20%20%20%20%20%20%20%20%20%20%20%20%20%20function%20latLngPop%28e%29%20%7B%0A%20%20%20%20%20%20%20%20%20%20%20%20%20%20%20%20%20%20%20%20lat_lng_popup_87202c9a4adb49c7a7041843ad62852f%0A%20%20%20%20%20%20%20%20%20%20%20%20%20%20%20%20%20%20%20%20%20%20%20%20.setLatLng%28e.latlng%29%0A%20%20%20%20%20%20%20%20%20%20%20%20%20%20%20%20%20%20%20%20%20%20%20%20.setContent%28%22Latitude%3A%20%22%20%2B%20e.latlng.lat.toFixed%284%29%20%2B%0A%20%20%20%20%20%20%20%20%20%20%20%20%20%20%20%20%20%20%20%20%20%20%20%20%20%20%20%20%20%20%20%20%20%20%20%20%22%3Cbr%3ELongitude%3A%20%22%20%2B%20e.latlng.lng.toFixed%284%29%29%0A%20%20%20%20%20%20%20%20%20%20%20%20%20%20%20%20%20%20%20%20%20%20%20%20.openOn%28map_8516ce39d6a449f2b7642061526d2877%29%3B%0A%20%20%20%20%20%20%20%20%20%20%20%20%20%20%20%20%20%20%20%20%7D%0A%20%20%20%20%20%20%20%20%20%20%20%20%20%20%20%20map_8516ce39d6a449f2b7642061526d2877.on%28%27click%27%2C%20latLngPop%29%3B%0A%20%20%20%20%20%20%20%20%20%20%20%20%0A%20%20%20%20%0A%20%20%20%20%20%20%20%20%20%20%20%20L.control.fullscreen%28%0A%20%20%20%20%20%20%20%20%20%20%20%20%20%20%20%20%7B%22forceSeparateButton%22%3A%20false%2C%20%22position%22%3A%20%22topleft%22%2C%20%22title%22%3A%20%22Full%20Screen%22%2C%20%22titleCancel%22%3A%20%22Exit%20Full%20Screen%22%7D%0A%20%20%20%20%20%20%20%20%20%20%20%20%29.addTo%28map_8516ce39d6a449f2b7642061526d2877%29%3B%0A%20%20%20%20%20%20%20%20%0A%20%20%20%20%0A%20%20%20%20%20%20%20%20%20%20%20%20map_8516ce39d6a449f2b7642061526d2877.fitBounds%28%0A%20%20%20%20%20%20%20%20%20%20%20%20%20%20%20%20%5B%5B40%2C%20-100%5D%2C%20%5B40%2C%20-100%5D%5D%2C%0A%20%20%20%20%20%20%20%20%20%20%20%20%20%20%20%20%7B%22maxZoom%22%3A%204%7D%0A%20%20%20%20%20%20%20%20%20%20%20%20%29%3B%0A%20%20%20%20%20%20%20%20%0A%20%20%20%20%0A%20%20%20%20%20%20%20%20%20%20%20%20var%20tile_layer_c3cc742ee9254257b337887d2ba1a540%20%3D%20L.tileLayer%28%0A%20%20%20%20%20%20%20%20%20%20%20%20%20%20%20%20%22https%3A//earthengine.googleapis.com/v1alpha/projects/earthengine-legacy/maps/41de6543c049f071a88256134e648d43-4249b944cb5bea135775e5481d36b315/tiles/%7Bz%7D/%7Bx%7D/%7By%7D%22%2C%0A%20%20%20%20%20%20%20%20%20%20%20%20%20%20%20%20%7B%22attribution%22%3A%20%22Google%20Earth%20Engine%22%2C%20%22detectRetina%22%3A%20false%2C%20%22maxNativeZoom%22%3A%2018%2C%20%22maxZoom%22%3A%2018%2C%20%22minZoom%22%3A%200%2C%20%22noWrap%22%3A%20false%2C%20%22opacity%22%3A%201.0%2C%20%22subdomains%22%3A%20%22abc%22%2C%20%22tms%22%3A%20false%7D%0A%20%20%20%20%20%20%20%20%20%20%20%20%29.addTo%28map_8516ce39d6a449f2b7642061526d2877%29%3B%0A%20%20%20%20%20%20%20%20%0A%20%20%20%20%0A%20%20%20%20var%20color_map_d9dd530d0b234f69bba9510b48abb47f%20%3D%20%7B%7D%3B%0A%0A%20%20%20%20%0A%20%20%20%20color_map_d9dd530d0b234f69bba9510b48abb47f.color%20%3D%20d3.scale.threshold%28%29%0A%20%20%20%20%20%20%20%20%20%20%20%20%20%20.domain%28%5B0.0%2C%200.6012024048096193%2C%201.2024048096192386%2C%201.8036072144288577%2C%202.404809619238477%2C%203.006012024048096%2C%203.6072144288577155%2C%204.208416833667335%2C%204.809619238476954%2C%205.410821643286573%2C%206.012024048096192%2C%206.613226452905812%2C%207.214428857715431%2C%207.81563126252505%2C%208.41683366733467%2C%209.01803607214429%2C%209.619238476953909%2C%2010.220440881763528%2C%2010.821643286573146%2C%2011.422845691382765%2C%2012.024048096192384%2C%2012.625250501002004%2C%2013.226452905811623%2C%2013.827655310621243%2C%2014.428857715430862%2C%2015.030060120240481%2C%2015.6312625250501%2C%2016.23246492985972%2C%2016.83366733466934%2C%2017.43486973947896%2C%2018.03607214428858%2C%2018.637274549098198%2C%2019.238476953907817%2C%2019.839679358717436%2C%2020.440881763527056%2C%2021.04208416833667%2C%2021.64328657314629%2C%2022.24448897795591%2C%2022.84569138276553%2C%2023.44689378757515%2C%2024.04809619238477%2C%2024.649298597194388%2C%2025.250501002004007%2C%2025.851703406813627%2C%2026.452905811623246%2C%2027.054108216432866%2C%2027.655310621242485%2C%2028.256513026052104%2C%2028.857715430861724%2C%2029.458917835671343%2C%2030.060120240480963%2C%2030.661322645290582%2C%2031.2625250501002%2C%2031.86372745490982%2C%2032.46492985971944%2C%2033.06613226452906%2C%2033.66733466933868%2C%2034.2685370741483%2C%2034.86973947895792%2C%2035.47094188376754%2C%2036.07214428857716%2C%2036.673346693386776%2C%2037.274549098196395%2C%2037.875751503006015%2C%2038.476953907815634%2C%2039.078156312625254%2C%2039.67935871743487%2C%2040.28056112224449%2C%2040.88176352705411%2C%2041.482965931863724%2C%2042.08416833667334%2C%2042.68537074148296%2C%2043.28657314629258%2C%2043.8877755511022%2C%2044.48897795591182%2C%2045.09018036072144%2C%2045.69138276553106%2C%2046.29258517034068%2C%2046.8937875751503%2C%2047.49498997995992%2C%2048.09619238476954%2C%2048.69739478957916%2C%2049.298597194388776%2C%2049.899799599198396%2C%2050.501002004008015%2C%2051.102204408817634%2C%2051.703406813627254%2C%2052.30460921843687%2C%2052.90581162324649%2C%2053.50701402805611%2C%2054.10821643286573%2C%2054.70941883767535%2C%2055.31062124248497%2C%2055.91182364729459%2C%2056.51302605210421%2C%2057.11422845691383%2C%2057.71543086172345%2C%2058.31663326653307%2C%2058.91783567134269%2C%2059.519038076152306%2C%2060.120240480961925%2C%2060.721442885771545%2C%2061.322645290581164%2C%2061.92384769539078%2C%2062.5250501002004%2C%2063.12625250501002%2C%2063.72745490981964%2C%2064.32865731462925%2C%2064.92985971943888%2C%2065.53106212424849%2C%2066.13226452905812%2C%2066.73346693386773%2C%2067.33466933867736%2C%2067.93587174348697%2C%2068.5370741482966%2C%2069.13827655310621%2C%2069.73947895791584%2C%2070.34068136272545%2C%2070.94188376753507%2C%2071.54308617234469%2C%2072.14428857715431%2C%2072.74549098196393%2C%2073.34669338677355%2C%2073.94789579158316%2C%2074.54909819639279%2C%2075.1503006012024%2C%2075.75150300601203%2C%2076.35270541082164%2C%2076.95390781563127%2C%2077.55511022044088%2C%2078.15631262525051%2C%2078.75751503006012%2C%2079.35871743486975%2C%2079.95991983967936%2C%2080.56112224448898%2C%2081.1623246492986%2C%2081.76352705410822%2C%2082.36472945891784%2C%2082.96593186372745%2C%2083.56713426853707%2C%2084.16833667334669%2C%2084.76953907815631%2C%2085.37074148296593%2C%2085.97194388777555%2C%2086.57314629258516%2C%2087.17434869739479%2C%2087.7755511022044%2C%2088.37675350701403%2C%2088.97795591182364%2C%2089.57915831663327%2C%2090.18036072144288%2C%2090.78156312625251%2C%2091.38276553106212%2C%2091.98396793587175%2C%2092.58517034068136%2C%2093.18637274549098%2C%2093.7875751503006%2C%2094.38877755511022%2C%2094.98997995991984%2C%2095.59118236472946%2C%2096.19238476953907%2C%2096.7935871743487%2C%2097.39478957915831%2C%2097.99599198396794%2C%2098.59719438877755%2C%2099.19839679358718%2C%2099.79959919839679%2C%20100.40080160320642%2C%20101.00200400801603%2C%20101.60320641282566%2C%20102.20440881763527%2C%20102.8056112224449%2C%20103.40681362725451%2C%20104.00801603206413%2C%20104.60921843687375%2C%20105.21042084168337%2C%20105.81162324649299%2C%20106.41282565130261%2C%20107.01402805611222%2C%20107.61523046092185%2C%20108.21643286573146%2C%20108.81763527054109%2C%20109.4188376753507%2C%20110.02004008016031%2C%20110.62124248496994%2C%20111.22244488977955%2C%20111.82364729458918%2C%20112.42484969939879%2C%20113.02605210420842%2C%20113.62725450901803%2C%20114.22845691382766%2C%20114.82965931863727%2C%20115.4308617234469%2C%20116.03206412825651%2C%20116.63326653306613%2C%20117.23446893787575%2C%20117.83567134268537%2C%20118.43687374749499%2C%20119.03807615230461%2C%20119.63927855711422%2C%20120.24048096192385%2C%20120.84168336673346%2C%20121.44288577154309%2C%20122.0440881763527%2C%20122.64529058116233%2C%20123.24649298597194%2C%20123.84769539078157%2C%20124.44889779559118%2C%20125.0501002004008%2C%20125.65130260521042%2C%20126.25250501002004%2C%20126.85370741482966%2C%20127.45490981963928%2C%20128.0561122244489%2C%20128.6573146292585%2C%20129.25851703406815%2C%20129.85971943887776%2C%20130.46092184368737%2C%20131.06212424849699%2C%20131.66332665330663%2C%20132.26452905811624%2C%20132.86573146292585%2C%20133.46693386773546%2C%20134.0681362725451%2C%20134.66933867735472%2C%20135.27054108216433%2C%20135.87174348697394%2C%20136.47294589178355%2C%20137.0741482965932%2C%20137.6753507014028%2C%20138.27655310621242%2C%20138.87775551102203%2C%20139.47895791583167%2C%20140.08016032064128%2C%20140.6813627254509%2C%20141.2825651302605%2C%20141.88376753507015%2C%20142.48496993987976%2C%20143.08617234468937%2C%20143.68737474949899%2C%20144.28857715430863%2C%20144.88977955911824%2C%20145.49098196392785%2C%20146.09218436873746%2C%20146.6933867735471%2C%20147.29458917835672%2C%20147.89579158316633%2C%20148.49699398797594%2C%20149.09819639278558%2C%20149.6993987975952%2C%20150.3006012024048%2C%20150.90180360721442%2C%20151.50300601202406%2C%20152.10420841683367%2C%20152.70541082164328%2C%20153.3066132264529%2C%20153.90781563126254%2C%20154.50901803607215%2C%20155.11022044088176%2C%20155.71142284569137%2C%20156.31262525050101%2C%20156.91382765531063%2C%20157.51503006012024%2C%20158.11623246492985%2C%20158.7174348697395%2C%20159.3186372745491%2C%20159.91983967935872%2C%20160.52104208416833%2C%20161.12224448897797%2C%20161.72344689378758%2C%20162.3246492985972%2C%20162.9258517034068%2C%20163.52705410821645%2C%20164.12825651302606%2C%20164.72945891783567%2C%20165.33066132264528%2C%20165.9318637274549%2C%20166.53306613226454%2C%20167.13426853707415%2C%20167.73547094188376%2C%20168.33667334669337%2C%20168.93787575150301%2C%20169.53907815631263%2C%20170.14028056112224%2C%20170.74148296593185%2C%20171.3426853707415%2C%20171.9438877755511%2C%20172.54509018036072%2C%20173.14629258517033%2C%20173.74749498997997%2C%20174.34869739478958%2C%20174.9498997995992%2C%20175.5511022044088%2C%20176.15230460921845%2C%20176.75350701402806%2C%20177.35470941883767%2C%20177.95591182364728%2C%20178.55711422845692%2C%20179.15831663326654%2C%20179.75951903807615%2C%20180.36072144288576%2C%20180.9619238476954%2C%20181.56312625250501%2C%20182.16432865731463%2C%20182.76553106212424%2C%20183.36673346693388%2C%20183.9679358717435%2C%20184.5691382765531%2C%20185.17034068136272%2C%20185.77154308617236%2C%20186.37274549098197%2C%20186.97394789579158%2C%20187.5751503006012%2C%20188.17635270541084%2C%20188.77755511022045%2C%20189.37875751503006%2C%20189.97995991983967%2C%20190.5811623246493%2C%20191.18236472945893%2C%20191.78356713426854%2C%20192.38476953907815%2C%20192.98597194388776%2C%20193.5871743486974%2C%20194.18837675350701%2C%20194.78957915831663%2C%20195.39078156312624%2C%20195.99198396793588%2C%20196.5931863727455%2C%20197.1943887775551%2C%20197.79559118236472%2C%20198.39679358717436%2C%20198.99799599198397%2C%20199.59919839679358%2C%20200.2004008016032%2C%20200.80160320641284%2C%20201.40280561122245%2C%20202.00400801603206%2C%20202.60521042084167%2C%20203.2064128256513%2C%20203.80761523046093%2C%20204.40881763527054%2C%20205.01002004008015%2C%20205.6112224448898%2C%20206.2124248496994%2C%20206.81362725450902%2C%20207.41482965931863%2C%20208.01603206412827%2C%20208.61723446893788%2C%20209.2184368737475%2C%20209.8196392785571%2C%20210.42084168336675%2C%20211.02204408817636%2C%20211.62324649298597%2C%20212.22444889779558%2C%20212.82565130260522%2C%20213.42685370741484%2C%20214.02805611222445%2C%20214.62925851703406%2C%20215.2304609218437%2C%20215.8316633266533%2C%20216.43286573146293%2C%20217.03406813627254%2C%20217.63527054108218%2C%20218.2364729458918%2C%20218.8376753507014%2C%20219.43887775551102%2C%20220.04008016032063%2C%20220.64128256513027%2C%20221.24248496993988%2C%20221.8436873747495%2C%20222.4448897795591%2C%20223.04609218436875%2C%20223.64729458917836%2C%20224.24849699398797%2C%20224.84969939879758%2C%20225.45090180360722%2C%20226.05210420841684%2C%20226.65330661322645%2C%20227.25450901803606%2C%20227.8557114228457%2C%20228.4569138276553%2C%20229.05811623246493%2C%20229.65931863727454%2C%20230.26052104208418%2C%20230.8617234468938%2C%20231.4629258517034%2C%20232.06412825651302%2C%20232.66533066132266%2C%20233.26653306613227%2C%20233.86773547094188%2C%20234.4689378757515%2C%20235.07014028056113%2C%20235.67134268537075%2C%20236.27254509018036%2C%20236.87374749498997%2C%20237.4749498997996%2C%20238.07615230460922%2C%20238.67735470941884%2C%20239.27855711422845%2C%20239.8797595190381%2C%20240.4809619238477%2C%20241.0821643286573%2C%20241.68336673346693%2C%20242.28456913827657%2C%20242.88577154308618%2C%20243.4869739478958%2C%20244.0881763527054%2C%20244.68937875751504%2C%20245.29058116232466%2C%20245.89178356713427%2C%20246.49298597194388%2C%20247.0941883767535%2C%20247.69539078156313%2C%20248.29659318637275%2C%20248.89779559118236%2C%20249.49899799599197%2C%20250.1002004008016%2C%20250.70140280561122%2C%20251.30260521042084%2C%20251.90380761523045%2C%20252.5050100200401%2C%20253.1062124248497%2C%20253.7074148296593%2C%20254.30861723446893%2C%20254.90981963927857%2C%20255.51102204408818%2C%20256.1122244488978%2C%20256.7134268537074%2C%20257.314629258517%2C%20257.9158316633266%2C%20258.5170340681363%2C%20259.1182364729459%2C%20259.7194388777555%2C%20260.32064128256513%2C%20260.92184368737475%2C%20261.52304609218436%2C%20262.12424849699397%2C%20262.7254509018036%2C%20263.32665330661325%2C%20263.92785571142286%2C%20264.5290581162325%2C%20265.1302605210421%2C%20265.7314629258517%2C%20266.3326653306613%2C%20266.9338677354709%2C%20267.53507014028054%2C%20268.1362725450902%2C%20268.7374749498998%2C%20269.33867735470943%2C%20269.93987975951904%2C%20270.54108216432866%2C%20271.14228456913827%2C%20271.7434869739479%2C%20272.3446893787575%2C%20272.9458917835671%2C%20273.5470941883768%2C%20274.1482965931864%2C%20274.749498997996%2C%20275.3507014028056%2C%20275.9519038076152%2C%20276.55310621242484%2C%20277.15430861723445%2C%20277.75551102204406%2C%20278.35671342685373%2C%20278.95791583166334%2C%20279.55911823647295%2C%20280.16032064128257%2C%20280.7615230460922%2C%20281.3627254509018%2C%20281.9639278557114%2C%20282.565130260521%2C%20283.1663326653307%2C%20283.7675350701403%2C%20284.3687374749499%2C%20284.9699398797595%2C%20285.57114228456913%2C%20286.17234468937875%2C%20286.77354709418836%2C%20287.37474949899797%2C%20287.97595190380764%2C%20288.57715430861725%2C%20289.17835671342687%2C%20289.7795591182365%2C%20290.3807615230461%2C%20290.9819639278557%2C%20291.5831663326653%2C%20292.1843687374749%2C%20292.7855711422846%2C%20293.3867735470942%2C%20293.9879759519038%2C%20294.58917835671343%2C%20295.19038076152304%2C%20295.79158316633266%2C%20296.39278557114227%2C%20296.9939879759519%2C%20297.59519038076155%2C%20298.19639278557116%2C%20298.7975951903808%2C%20299.3987975951904%2C%20300.0%5D%29%0A%20%20%20%20%20%20%20%20%20%20%20%20%20%20.range%28%5B%27%23ffffffff%27%2C%20%27%23fffffdff%27%2C%20%27%23fffefaff%27%2C%20%27%23fffdf8ff%27%2C%20%27%23fffdf5ff%27%2C%20%27%23fffcf3ff%27%2C%20%27%23fffbf0ff%27%2C%20%27%23fffaeeff%27%2C%20%27%23fffaebff%27%2C%20%27%23fff9e9ff%27%2C%20%27%23fff8e6ff%27%2C%20%27%23fff7e4ff%27%2C%20%27%23fff7e1ff%27%2C%20%27%23fff6dfff%27%2C%20%27%23fff5dcff%27%2C%20%27%23fff4daff%27%2C%20%27%23fff4d7ff%27%2C%20%27%23fff3d5ff%27%2C%20%27%23fff2d2ff%27%2C%20%27%23fff1d0ff%27%2C%20%27%23fff1cdff%27%2C%20%27%23fef0cbff%27%2C%20%27%23feefc8ff%27%2C%20%27%23feeec6ff%27%2C%20%27%23feeec3ff%27%2C%20%27%23feedc1ff%27%2C%20%27%23feecbeff%27%2C%20%27%23feecbcff%27%2C%20%27%23feebb9ff%27%2C%20%27%23feeab7ff%27%2C%20%27%23fee9b4ff%27%2C%20%27%23fee9b2ff%27%2C%20%27%23fee8afff%27%2C%20%27%23fee7adff%27%2C%20%27%23fee6aaff%27%2C%20%27%23fee6a8ff%27%2C%20%27%23fee5a5ff%27%2C%20%27%23fee4a3ff%27%2C%20%27%23fee3a0ff%27%2C%20%27%23fee39eff%27%2C%20%27%23fee29bff%27%2C%20%27%23fee199ff%27%2C%20%27%23fde096ff%27%2C%20%27%23fde094ff%27%2C%20%27%23fddf91ff%27%2C%20%27%23fdde8fff%27%2C%20%27%23fddd8cff%27%2C%20%27%23fddd89ff%27%2C%20%27%23fddc87ff%27%2C%20%27%23fddb84ff%27%2C%20%27%23fdda82ff%27%2C%20%27%23fdda7fff%27%2C%20%27%23fdd97dff%27%2C%20%27%23fdd87aff%27%2C%20%27%23fdd878ff%27%2C%20%27%23fdd775ff%27%2C%20%27%23fdd673ff%27%2C%20%27%23fdd570ff%27%2C%20%27%23fdd56eff%27%2C%20%27%23fdd46bff%27%2C%20%27%23fdd369ff%27%2C%20%27%23fdd266ff%27%2C%20%27%23fdd264ff%27%2C%20%27%23fbd162ff%27%2C%20%27%23fad161ff%27%2C%20%27%23f8d060ff%27%2C%20%27%23f7d05fff%27%2C%20%27%23f5cf5dff%27%2C%20%27%23f4cf5cff%27%2C%20%27%23f2cf5bff%27%2C%20%27%23f0ce5aff%27%2C%20%27%23efce58ff%27%2C%20%27%23edcd57ff%27%2C%20%27%23eccd56ff%27%2C%20%27%23eacc55ff%27%2C%20%27%23e8cc54ff%27%2C%20%27%23e7cc52ff%27%2C%20%27%23e5cb51ff%27%2C%20%27%23e4cb50ff%27%2C%20%27%23e2ca4fff%27%2C%20%27%23e0ca4eff%27%2C%20%27%23dfca4cff%27%2C%20%27%23ddc94bff%27%2C%20%27%23dcc94aff%27%2C%20%27%23dac849ff%27%2C%20%27%23d8c848ff%27%2C%20%27%23d7c746ff%27%2C%20%27%23d5c745ff%27%2C%20%27%23d4c744ff%27%2C%20%27%23d2c643ff%27%2C%20%27%23d0c642ff%27%2C%20%27%23cfc540ff%27%2C%20%27%23cdc53fff%27%2C%20%27%23ccc53eff%27%2C%20%27%23cac43dff%27%2C%20%27%23c9c43cff%27%2C%20%27%23c7c33aff%27%2C%20%27%23c5c339ff%27%2C%20%27%23c4c238ff%27%2C%20%27%23c2c237ff%27%2C%20%27%23c1c235ff%27%2C%20%27%23bfc134ff%27%2C%20%27%23bdc133ff%27%2C%20%27%23bcc032ff%27%2C%20%27%23bac031ff%27%2C%20%27%23b9bf2fff%27%2C%20%27%23b7bf2eff%27%2C%20%27%23b5bf2dff%27%2C%20%27%23b4be2cff%27%2C%20%27%23b2be2bff%27%2C%20%27%23b1bd29ff%27%2C%20%27%23afbd28ff%27%2C%20%27%23adbd27ff%27%2C%20%27%23acbc26ff%27%2C%20%27%23aabc25ff%27%2C%20%27%23a9bb23ff%27%2C%20%27%23a7bb22ff%27%2C%20%27%23a5ba21ff%27%2C%20%27%23a4ba20ff%27%2C%20%27%23a2ba1fff%27%2C%20%27%23a1b91dff%27%2C%20%27%239fb91cff%27%2C%20%27%239db81bff%27%2C%20%27%239cb81aff%27%2C%20%27%239ab818ff%27%2C%20%27%2399b717ff%27%2C%20%27%2398b717ff%27%2C%20%27%2397b617ff%27%2C%20%27%2396b616ff%27%2C%20%27%2396b616ff%27%2C%20%27%2395b516ff%27%2C%20%27%2394b515ff%27%2C%20%27%2393b515ff%27%2C%20%27%2392b414ff%27%2C%20%27%2392b414ff%27%2C%20%27%2391b314ff%27%2C%20%27%2390b313ff%27%2C%20%27%238fb313ff%27%2C%20%27%238eb212ff%27%2C%20%27%238db212ff%27%2C%20%27%238db212ff%27%2C%20%27%238cb111ff%27%2C%20%27%238bb111ff%27%2C%20%27%238ab011ff%27%2C%20%27%2389b010ff%27%2C%20%27%2388b010ff%27%2C%20%27%2388af0fff%27%2C%20%27%2387af0fff%27%2C%20%27%2386af0fff%27%2C%20%27%2385ae0eff%27%2C%20%27%2384ae0eff%27%2C%20%27%2384ae0dff%27%2C%20%27%2383ad0dff%27%2C%20%27%2382ad0dff%27%2C%20%27%2381ac0cff%27%2C%20%27%2380ac0cff%27%2C%20%27%237fac0cff%27%2C%20%27%237fab0bff%27%2C%20%27%237eab0bff%27%2C%20%27%237dab0aff%27%2C%20%27%237caa0aff%27%2C%20%27%237baa0aff%27%2C%20%27%237ba909ff%27%2C%20%27%237aa909ff%27%2C%20%27%2379a908ff%27%2C%20%27%2378a808ff%27%2C%20%27%2377a808ff%27%2C%20%27%2376a807ff%27%2C%20%27%2376a707ff%27%2C%20%27%2375a707ff%27%2C%20%27%2374a606ff%27%2C%20%27%2373a606ff%27%2C%20%27%2372a605ff%27%2C%20%27%2371a505ff%27%2C%20%27%2371a505ff%27%2C%20%27%2370a504ff%27%2C%20%27%236fa404ff%27%2C%20%27%236ea403ff%27%2C%20%27%236da403ff%27%2C%20%27%236da303ff%27%2C%20%27%236ca302ff%27%2C%20%27%236ba202ff%27%2C%20%27%236aa201ff%27%2C%20%27%2369a201ff%27%2C%20%27%2368a101ff%27%2C%20%27%2368a100ff%27%2C%20%27%2367a100ff%27%2C%20%27%2366a000ff%27%2C%20%27%2365a000ff%27%2C%20%27%23659f00ff%27%2C%20%27%23649f00ff%27%2C%20%27%23639f00ff%27%2C%20%27%23639e00ff%27%2C%20%27%23629e00ff%27%2C%20%27%23619d00ff%27%2C%20%27%23619d00ff%27%2C%20%27%23609c00ff%27%2C%20%27%23609c00ff%27%2C%20%27%235f9c00ff%27%2C%20%27%235e9b00ff%27%2C%20%27%235e9b00ff%27%2C%20%27%235d9a00ff%27%2C%20%27%235c9a00ff%27%2C%20%27%235c9900ff%27%2C%20%27%235b9900ff%27%2C%20%27%235a9900ff%27%2C%20%27%235a9800ff%27%2C%20%27%23599800ff%27%2C%20%27%23589700ff%27%2C%20%27%23589700ff%27%2C%20%27%23579700ff%27%2C%20%27%23579600ff%27%2C%20%27%23569600ff%27%2C%20%27%23559500ff%27%2C%20%27%23559500ff%27%2C%20%27%23549400ff%27%2C%20%27%23539400ff%27%2C%20%27%23539400ff%27%2C%20%27%23529300ff%27%2C%20%27%23519300ff%27%2C%20%27%23519200ff%27%2C%20%27%23509200ff%27%2C%20%27%234f9200ff%27%2C%20%27%234f9100ff%27%2C%20%27%234e9100ff%27%2C%20%27%234e9000ff%27%2C%20%27%234d9000ff%27%2C%20%27%234c8f00ff%27%2C%20%27%234c8f00ff%27%2C%20%27%234b8f00ff%27%2C%20%27%234a8e00ff%27%2C%20%27%234a8e00ff%27%2C%20%27%23498d00ff%27%2C%20%27%23488d00ff%27%2C%20%27%23488d00ff%27%2C%20%27%23478c00ff%27%2C%20%27%23468c00ff%27%2C%20%27%23468b00ff%27%2C%20%27%23458b00ff%27%2C%20%27%23458a00ff%27%2C%20%27%23448a00ff%27%2C%20%27%23438a00ff%27%2C%20%27%23438900ff%27%2C%20%27%23428900ff%27%2C%20%27%23418800ff%27%2C%20%27%23418800ff%27%2C%20%27%23408700ff%27%2C%20%27%233f8700ff%27%2C%20%27%233f8700ff%27%2C%20%27%233e8600ff%27%2C%20%27%233e8601ff%27%2C%20%27%233d8601ff%27%2C%20%27%233d8501ff%27%2C%20%27%233c8501ff%27%2C%20%27%233c8501ff%27%2C%20%27%233b8401ff%27%2C%20%27%233b8401ff%27%2C%20%27%233a8401ff%27%2C%20%27%233a8401ff%27%2C%20%27%23398301ff%27%2C%20%27%23398301ff%27%2C%20%27%23388301ff%27%2C%20%27%23388201ff%27%2C%20%27%23378201ff%27%2C%20%27%23378201ff%27%2C%20%27%23368201ff%27%2C%20%27%23368101ff%27%2C%20%27%23358101ff%27%2C%20%27%23358101ff%27%2C%20%27%23348001ff%27%2C%20%27%23348001ff%27%2C%20%27%23338001ff%27%2C%20%27%23338001ff%27%2C%20%27%23327f01ff%27%2C%20%27%23327f01ff%27%2C%20%27%23317f01ff%27%2C%20%27%23317e01ff%27%2C%20%27%23307e01ff%27%2C%20%27%23307e01ff%27%2C%20%27%232f7d01ff%27%2C%20%27%232f7d01ff%27%2C%20%27%232f7d01ff%27%2C%20%27%232e7d01ff%27%2C%20%27%232e7c01ff%27%2C%20%27%232d7c01ff%27%2C%20%27%232d7c01ff%27%2C%20%27%232c7b01ff%27%2C%20%27%232c7b01ff%27%2C%20%27%232b7b01ff%27%2C%20%27%232b7b01ff%27%2C%20%27%232a7a01ff%27%2C%20%27%232a7a01ff%27%2C%20%27%23297a01ff%27%2C%20%27%23297901ff%27%2C%20%27%23287901ff%27%2C%20%27%23287901ff%27%2C%20%27%23277901ff%27%2C%20%27%23277801ff%27%2C%20%27%23267801ff%27%2C%20%27%23267801ff%27%2C%20%27%23257701ff%27%2C%20%27%23257701ff%27%2C%20%27%23247701ff%27%2C%20%27%23247701ff%27%2C%20%27%23237601ff%27%2C%20%27%23237601ff%27%2C%20%27%23227601ff%27%2C%20%27%23227501ff%27%2C%20%27%23217501ff%27%2C%20%27%23217501ff%27%2C%20%27%23217401ff%27%2C%20%27%23207401ff%27%2C%20%27%23207401ff%27%2C%20%27%231f7401ff%27%2C%20%27%231f7301ff%27%2C%20%27%231e7301ff%27%2C%20%27%231e7301ff%27%2C%20%27%231d7201ff%27%2C%20%27%231d7201ff%27%2C%20%27%231d7201ff%27%2C%20%27%231c7201ff%27%2C%20%27%231c7101ff%27%2C%20%27%231b7101ff%27%2C%20%27%231b7101ff%27%2C%20%27%231a7001ff%27%2C%20%27%231a7001ff%27%2C%20%27%23197001ff%27%2C%20%27%23197001ff%27%2C%20%27%23196f01ff%27%2C%20%27%23186f01ff%27%2C%20%27%23186f01ff%27%2C%20%27%23176e01ff%27%2C%20%27%23176e01ff%27%2C%20%27%23166e01ff%27%2C%20%27%23166e01ff%27%2C%20%27%23166d01ff%27%2C%20%27%23156d01ff%27%2C%20%27%23156d01ff%27%2C%20%27%23146c01ff%27%2C%20%27%23146c01ff%27%2C%20%27%23136c01ff%27%2C%20%27%23136c01ff%27%2C%20%27%23136b01ff%27%2C%20%27%23126b01ff%27%2C%20%27%23126b01ff%27%2C%20%27%23116a01ff%27%2C%20%27%23116a01ff%27%2C%20%27%23106a01ff%27%2C%20%27%23106901ff%27%2C%20%27%230f6901ff%27%2C%20%27%230f6901ff%27%2C%20%27%230f6901ff%27%2C%20%27%230e6801ff%27%2C%20%27%230e6801ff%27%2C%20%27%230d6801ff%27%2C%20%27%230d6701ff%27%2C%20%27%230c6701ff%27%2C%20%27%230c6701ff%27%2C%20%27%230c6701ff%27%2C%20%27%230b6601ff%27%2C%20%27%230b6601ff%27%2C%20%27%230a6601ff%27%2C%20%27%230a6501ff%27%2C%20%27%23096501ff%27%2C%20%27%23096501ff%27%2C%20%27%23096501ff%27%2C%20%27%23086401ff%27%2C%20%27%23086401ff%27%2C%20%27%23076401ff%27%2C%20%27%23076301ff%27%2C%20%27%23066301ff%27%2C%20%27%23066301ff%27%2C%20%27%23056301ff%27%2C%20%27%23056201ff%27%2C%20%27%23056201ff%27%2C%20%27%23046200ff%27%2C%20%27%23046100ff%27%2C%20%27%23046100ff%27%2C%20%27%23046100ff%27%2C%20%27%23046000ff%27%2C%20%27%23046000ff%27%2C%20%27%23045f00ff%27%2C%20%27%23045f00ff%27%2C%20%27%23045f00ff%27%2C%20%27%23045e00ff%27%2C%20%27%23045e00ff%27%2C%20%27%23045e00ff%27%2C%20%27%23035d00ff%27%2C%20%27%23035d00ff%27%2C%20%27%23035d00ff%27%2C%20%27%23035c00ff%27%2C%20%27%23035c00ff%27%2C%20%27%23035c00ff%27%2C%20%27%23035b00ff%27%2C%20%27%23035b00ff%27%2C%20%27%23035b00ff%27%2C%20%27%23035a00ff%27%2C%20%27%23035a00ff%27%2C%20%27%23035900ff%27%2C%20%27%23035900ff%27%2C%20%27%23025900ff%27%2C%20%27%23025800ff%27%2C%20%27%23025800ff%27%2C%20%27%23025800ff%27%2C%20%27%23025700ff%27%2C%20%27%23025700ff%27%2C%20%27%23025700ff%27%2C%20%27%23025600ff%27%2C%20%27%23025600ff%27%2C%20%27%23025600ff%27%2C%20%27%23025500ff%27%2C%20%27%23025500ff%27%2C%20%27%23015500ff%27%2C%20%27%23015400ff%27%2C%20%27%23015400ff%27%2C%20%27%23015300ff%27%2C%20%27%23015300ff%27%2C%20%27%23015300ff%27%2C%20%27%23015200ff%27%2C%20%27%23015200ff%27%2C%20%27%23015200ff%27%2C%20%27%23015100ff%27%2C%20%27%23015100ff%27%2C%20%27%23015100ff%27%2C%20%27%23015000ff%27%2C%20%27%23005000ff%27%2C%20%27%23005000ff%27%2C%20%27%23004f00ff%27%2C%20%27%23004f00ff%27%2C%20%27%23004e00ff%27%2C%20%27%23004e00ff%27%2C%20%27%23004e00ff%27%2C%20%27%23004d00ff%27%2C%20%27%23004d00ff%27%2C%20%27%23004d00ff%27%2C%20%27%23004c00ff%27%2C%20%27%23004c00ff%27%2C%20%27%23004b00ff%27%2C%20%27%23004b00ff%27%2C%20%27%23004a00ff%27%2C%20%27%23004900ff%27%2C%20%27%23004800ff%27%2C%20%27%23004700ff%27%2C%20%27%23004600ff%27%2C%20%27%23004500ff%27%2C%20%27%23004400ff%27%2C%20%27%23004300ff%27%2C%20%27%23004200ff%27%2C%20%27%23004100ff%27%2C%20%27%23004000ff%27%2C%20%27%23004000ff%27%2C%20%27%23003f00ff%27%2C%20%27%23003e00ff%27%2C%20%27%23003d00ff%27%2C%20%27%23003c00ff%27%2C%20%27%23003b00ff%27%2C%20%27%23003a00ff%27%2C%20%27%23003900ff%27%2C%20%27%23003800ff%27%2C%20%27%23003700ff%27%2C%20%27%23003600ff%27%2C%20%27%23003500ff%27%2C%20%27%23003500ff%27%2C%20%27%23003400ff%27%2C%20%27%23003300ff%27%2C%20%27%23003200ff%27%2C%20%27%23003100ff%27%2C%20%27%23003000ff%27%2C%20%27%23002f00ff%27%2C%20%27%23002e00ff%27%2C%20%27%23002d00ff%27%2C%20%27%23002c00ff%27%2C%20%27%23002b00ff%27%2C%20%27%23002a00ff%27%2C%20%27%23002a00ff%27%2C%20%27%23002900ff%27%2C%20%27%23002800ff%27%2C%20%27%23002700ff%27%2C%20%27%23002600ff%27%2C%20%27%23002500ff%27%2C%20%27%23002400ff%27%2C%20%27%23002300ff%27%2C%20%27%23002200ff%27%2C%20%27%23002100ff%27%2C%20%27%23002000ff%27%2C%20%27%23001f00ff%27%2C%20%27%23001f00ff%27%2C%20%27%23001e00ff%27%2C%20%27%23001d00ff%27%2C%20%27%23001c00ff%27%2C%20%27%23001b00ff%27%2C%20%27%23001a00ff%27%2C%20%27%23001900ff%27%2C%20%27%23001800ff%27%2C%20%27%23001700ff%27%2C%20%27%23001600ff%27%2C%20%27%23001500ff%27%2C%20%27%23001400ff%27%2C%20%27%23001300ff%27%2C%20%27%23011301ff%27%5D%29%3B%0A%20%20%20%20%0A%0A%20%20%20%20color_map_d9dd530d0b234f69bba9510b48abb47f.x%20%3D%20d3.scale.linear%28%29%0A%20%20%20%20%20%20%20%20%20%20%20%20%20%20.domain%28%5B0.0%2C%20300.0%5D%29%0A%20%20%20%20%20%20%20%20%20%20%20%20%20%20.range%28%5B0%2C%20400%5D%29%3B%0A%0A%20%20%20%20color_map_d9dd530d0b234f69bba9510b48abb47f.legend%20%3D%20L.control%28%7Bposition%3A%20%27topright%27%7D%29%3B%0A%20%20%20%20color_map_d9dd530d0b234f69bba9510b48abb47f.legend.onAdd%20%3D%20function%20%28map%29%20%7Bvar%20div%20%3D%20L.DomUtil.create%28%27div%27%2C%20%27legend%27%29%3B%20return%20div%7D%3B%0A%20%20%20%20color_map_d9dd530d0b234f69bba9510b48abb47f.legend.addTo%28map_8516ce39d6a449f2b7642061526d2877%29%3B%0A%0A%20%20%20%20color_map_d9dd530d0b234f69bba9510b48abb47f.xAxis%20%3D%20d3.svg.axis%28%29%0A%20%20%20%20%20%20%20%20.scale%28color_map_d9dd530d0b234f69bba9510b48abb47f.x%29%0A%20%20%20%20%20%20%20%20.orient%28%22top%22%29%0A%20%20%20%20%20%20%20%20.tickSize%281%29%0A%20%20%20%20%20%20%20%20.tickValues%28%5B0.0%2C%2037.5%2C%2075.0%2C%20112.5%2C%20150.0%2C%20187.5%2C%20225.0%2C%20262.5%2C%20300.0%5D%29%3B%0A%0A%20%20%20%20color_map_d9dd530d0b234f69bba9510b48abb47f.svg%20%3D%20d3.select%28%22.legend.leaflet-control%22%29.append%28%22svg%22%29%0A%20%20%20%20%20%20%20%20.attr%28%22id%22%2C%20%27legend%27%29%0A%20%20%20%20%20%20%20%20.attr%28%22width%22%2C%20450%29%0A%20%20%20%20%20%20%20%20.attr%28%22height%22%2C%2040%29%3B%0A%0A%20%20%20%20color_map_d9dd530d0b234f69bba9510b48abb47f.g%20%3D%20color_map_d9dd530d0b234f69bba9510b48abb47f.svg.append%28%22g%22%29%0A%20%20%20%20%20%20%20%20.attr%28%22class%22%2C%20%22key%22%29%0A%20%20%20%20%20%20%20%20.attr%28%22transform%22%2C%20%22translate%2825%2C16%29%22%29%3B%0A%0A%20%20%20%20color_map_d9dd530d0b234f69bba9510b48abb47f.g.selectAll%28%22rect%22%29%0A%20%20%20%20%20%20%20%20.data%28color_map_d9dd530d0b234f69bba9510b48abb47f.color.range%28%29.map%28function%28d%2C%20i%29%20%7B%0A%20%20%20%20%20%20%20%20%20%20return%20%7B%0A%20%20%20%20%20%20%20%20%20%20%20%20x0%3A%20i%20%3F%20color_map_d9dd530d0b234f69bba9510b48abb47f.x%28color_map_d9dd530d0b234f69bba9510b48abb47f.color.domain%28%29%5Bi%20-%201%5D%29%20%3A%20color_map_d9dd530d0b234f69bba9510b48abb47f.x.range%28%29%5B0%5D%2C%0A%20%20%20%20%20%20%20%20%20%20%20%20x1%3A%20i%20%3C%20color_map_d9dd530d0b234f69bba9510b48abb47f.color.domain%28%29.length%20%3F%20color_map_d9dd530d0b234f69bba9510b48abb47f.x%28color_map_d9dd530d0b234f69bba9510b48abb47f.color.domain%28%29%5Bi%5D%29%20%3A%20color_map_d9dd530d0b234f69bba9510b48abb47f.x.range%28%29%5B1%5D%2C%0A%20%20%20%20%20%20%20%20%20%20%20%20z%3A%20d%0A%20%20%20%20%20%20%20%20%20%20%7D%3B%0A%20%20%20%20%20%20%20%20%7D%29%29%0A%20%20%20%20%20%20.enter%28%29.append%28%22rect%22%29%0A%20%20%20%20%20%20%20%20.attr%28%22height%22%2C%2010%29%0A%20%20%20%20%20%20%20%20.attr%28%22x%22%2C%20function%28d%29%20%7B%20return%20d.x0%3B%20%7D%29%0A%20%20%20%20%20%20%20%20.attr%28%22width%22%2C%20function%28d%29%20%7B%20return%20d.x1%20-%20d.x0%3B%20%7D%29%0A%20%20%20%20%20%20%20%20.style%28%22fill%22%2C%20function%28d%29%20%7B%20return%20d.z%3B%20%7D%29%3B%0A%0A%20%20%20%20color_map_d9dd530d0b234f69bba9510b48abb47f.g.call%28color_map_d9dd530d0b234f69bba9510b48abb47f.xAxis%29.append%28%22text%22%29%0A%20%20%20%20%20%20%20%20.attr%28%22class%22%2C%20%22caption%22%29%0A%20%20%20%20%20%20%20%20.attr%28%22y%22%2C%2021%29%0A%20%20%20%20%20%20%20%20.text%28%27ET%27%29%3B%0A%20%20%20%20%0A%20%20%20%20%20%20%20%20%20%20%20%20var%20layer_control_efe971e73f1b4e8083f52ab156101aa0%20%3D%20%7B%0A%20%20%20%20%20%20%20%20%20%20%20%20%20%20%20%20base_layers%20%3A%20%7B%0A%20%20%20%20%20%20%20%20%20%20%20%20%20%20%20%20%20%20%20%20%22openstreetmap%22%20%3A%20tile_layer_7d1af8e8863e49e497a8b5c71725d93d%2C%0A%20%20%20%20%20%20%20%20%20%20%20%20%20%20%20%20%7D%2C%0A%20%20%20%20%20%20%20%20%20%20%20%20%20%20%20%20overlays%20%3A%20%20%7B%0A%20%20%20%20%20%20%20%20%20%20%20%20%20%20%20%20%20%20%20%20%22Google%20Maps%22%20%3A%20tile_layer_a88e9328c748423c9d98a1b3c447ffb8%2C%0A%20%20%20%20%20%20%20%20%20%20%20%20%20%20%20%20%20%20%20%20%22ET%22%20%3A%20tile_layer_c3cc742ee9254257b337887d2ba1a540%2C%0A%20%20%20%20%20%20%20%20%20%20%20%20%20%20%20%20%7D%2C%0A%20%20%20%20%20%20%20%20%20%20%20%20%7D%3B%0A%20%20%20%20%20%20%20%20%20%20%20%20L.control.layers%28%0A%20%20%20%20%20%20%20%20%20%20%20%20%20%20%20%20layer_control_efe971e73f1b4e8083f52ab156101aa0.base_layers%2C%0A%20%20%20%20%20%20%20%20%20%20%20%20%20%20%20%20layer_control_efe971e73f1b4e8083f52ab156101aa0.overlays%2C%0A%20%20%20%20%20%20%20%20%20%20%20%20%20%20%20%20%7B%22autoZIndex%22%3A%20true%2C%20%22collapsed%22%3A%20true%2C%20%22position%22%3A%20%22topright%22%7D%0A%20%20%20%20%20%20%20%20%20%20%20%20%29.addTo%28map_8516ce39d6a449f2b7642061526d2877%29%3B%0A%20%20%20%20%20%20%20%20%0A%3C/script%3E onload=\"this.contentDocument.open();this.contentDocument.write(    decodeURIComponent(this.getAttribute('data-html')));this.contentDocument.close();\" allowfullscreen webkitallowfullscreen mozallowfullscreen></iframe></div></div>"
            ],
            "text/plain": [
              "<geemap.eefolium.Map at 0x7f5b511321d0>"
            ]
          },
          "metadata": {
            "tags": []
          },
          "execution_count": 16
        }
      ]
    }
  ]
}