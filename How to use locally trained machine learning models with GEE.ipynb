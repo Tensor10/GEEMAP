{
 "cells": [
  {
   "cell_type": "code",
   "execution_count": 2,
   "id": "hybrid-bikini",
   "metadata": {},
   "outputs": [
    {
     "name": "stdout",
     "output_type": "stream",
     "text": [
      "Requirement already satisfied: geemap in c:\\users\\arshad\\.conda\\envs\\gee\\lib\\site-packages (0.8.8)\n",
      "Requirement already satisfied: scikit-learn in c:\\users\\arshad\\.conda\\envs\\gee\\lib\\site-packages (0.24.1)\n",
      "Requirement already satisfied: geocoder in c:\\users\\arshad\\.conda\\envs\\gee\\lib\\site-packages (from geemap) (1.38.1)\n",
      "Requirement already satisfied: numpy in c:\\users\\arshad\\.conda\\envs\\gee\\lib\\site-packages (from geemap) (1.20.0)\n",
      "Requirement already satisfied: pandas in c:\\users\\arshad\\.conda\\envs\\gee\\lib\\site-packages (from geemap) (1.2.1)\n",
      "Requirement already satisfied: mss in c:\\users\\arshad\\.conda\\envs\\gee\\lib\\site-packages (from geemap) (6.1.0)\n",
      "Requirement already satisfied: voila in c:\\users\\arshad\\.conda\\envs\\gee\\lib\\site-packages (from geemap) (0.2.6)\n",
      "Requirement already satisfied: pycrs in c:\\users\\arshad\\.conda\\envs\\gee\\lib\\site-packages (from geemap) (1.0.2)\n",
      "Requirement already satisfied: whitebox in c:\\users\\arshad\\.conda\\envs\\gee\\lib\\site-packages (from geemap) (1.4.0)\n",
      "Requirement already satisfied: ipynb-py-convert in c:\\users\\arshad\\.conda\\envs\\gee\\lib\\site-packages (from geemap) (0.4.6)\n",
      "Requirement already satisfied: pyshp in c:\\users\\arshad\\.conda\\envs\\gee\\lib\\site-packages (from geemap) (2.1.3)\n",
      "Requirement already satisfied: click in c:\\users\\arshad\\.conda\\envs\\gee\\lib\\site-packages (from geemap) (7.1.2)\n",
      "Requirement already satisfied: bqplot in c:\\users\\arshad\\.conda\\envs\\gee\\lib\\site-packages (from geemap) (0.12.21)\n",
      "Requirement already satisfied: ffmpeg-python in c:\\users\\arshad\\.conda\\envs\\gee\\lib\\site-packages (from geemap) (0.2.0)\n",
      "Requirement already satisfied: earthengine-api>=0.1.230 in c:\\users\\arshad\\.conda\\envs\\gee\\lib\\site-packages (from geemap) (0.1.249)\n",
      "Requirement already satisfied: ipyfilechooser in c:\\users\\arshad\\.conda\\envs\\gee\\lib\\site-packages (from geemap) (0.4.1)\n",
      "Requirement already satisfied: ipytree in c:\\users\\arshad\\.conda\\envs\\gee\\lib\\site-packages (from geemap) (0.1.8)\n",
      "Requirement already satisfied: matplotlib in c:\\users\\arshad\\.conda\\envs\\gee\\lib\\site-packages (from geemap) (3.3.4)\n",
      "Requirement already satisfied: pillow in c:\\users\\arshad\\.conda\\envs\\gee\\lib\\site-packages (from geemap) (8.1.0)\n",
      "Requirement already satisfied: ipyevents in c:\\users\\arshad\\.conda\\envs\\gee\\lib\\site-packages (from geemap) (0.8.1)\n",
      "Requirement already satisfied: colour in c:\\users\\arshad\\.conda\\envs\\gee\\lib\\site-packages (from geemap) (0.1.5)\n",
      "Requirement already satisfied: geeadd>=0.5.1 in c:\\users\\arshad\\.conda\\envs\\gee\\lib\\site-packages (from geemap) (0.5.3)\n",
      "Requirement already satisfied: ipyleaflet>=0.13.3 in c:\\users\\arshad\\.conda\\envs\\gee\\lib\\site-packages (from geemap) (0.13.6)\n",
      "Requirement already satisfied: folium>=0.11.0 in c:\\users\\arshad\\.conda\\envs\\gee\\lib\\site-packages (from geemap) (0.12.1)\n",
      "Requirement already satisfied: httplib2<1dev,>=0.9.2 in c:\\users\\arshad\\.conda\\envs\\gee\\lib\\site-packages (from earthengine-api>=0.1.230->geemap) (0.18.1)\n",
      "Requirement already satisfied: future in c:\\users\\arshad\\.conda\\envs\\gee\\lib\\site-packages (from earthengine-api>=0.1.230->geemap) (0.18.2)\n",
      "Requirement already satisfied: google-api-python-client>=1.12.1 in c:\\users\\arshad\\.conda\\envs\\gee\\lib\\site-packages (from earthengine-api>=0.1.230->geemap) (1.12.8)\n",
      "Requirement already satisfied: httplib2shim in c:\\users\\arshad\\.conda\\envs\\gee\\lib\\site-packages (from earthengine-api>=0.1.230->geemap) (0.0.3)\n",
      "Requirement already satisfied: google-auth>=1.4.1 in c:\\users\\arshad\\.conda\\envs\\gee\\lib\\site-packages (from earthengine-api>=0.1.230->geemap) (1.21.3)\n",
      "Requirement already satisfied: six in c:\\users\\arshad\\.conda\\envs\\gee\\lib\\site-packages (from earthengine-api>=0.1.230->geemap) (1.15.0)\n",
      "Requirement already satisfied: google-auth-httplib2>=0.0.3 in c:\\users\\arshad\\.conda\\envs\\gee\\lib\\site-packages (from earthengine-api>=0.1.230->geemap) (0.0.4)\n",
      "Requirement already satisfied: google-cloud-storage in c:\\users\\arshad\\.conda\\envs\\gee\\lib\\site-packages (from earthengine-api>=0.1.230->geemap) (1.35.0)\n",
      "Requirement already satisfied: branca>=0.3.0 in c:\\users\\arshad\\.conda\\envs\\gee\\lib\\site-packages (from folium>=0.11.0->geemap) (0.4.2)\n",
      "Requirement already satisfied: requests in c:\\users\\arshad\\.conda\\envs\\gee\\lib\\site-packages (from folium>=0.11.0->geemap) (2.25.1)\n",
      "Requirement already satisfied: jinja2>=2.9 in c:\\users\\arshad\\.conda\\envs\\gee\\lib\\site-packages (from folium>=0.11.0->geemap) (2.11.3)\n",
      "Requirement already satisfied: logzero>=1.5.0 in c:\\users\\arshad\\.conda\\envs\\gee\\lib\\site-packages (from geeadd>=0.5.1->geemap) (1.6.3)\n",
      "Requirement already satisfied: beautifulsoup4>=4.9.0 in c:\\users\\arshad\\.conda\\envs\\gee\\lib\\site-packages (from geeadd>=0.5.1->geemap) (4.9.3)\n",
      "Requirement already satisfied: soupsieve>1.2 in c:\\users\\arshad\\.conda\\envs\\gee\\lib\\site-packages (from beautifulsoup4>=4.9.0->geeadd>=0.5.1->geemap) (2.1)\n",
      "Requirement already satisfied: google-api-core<2dev,>=1.21.0 in c:\\users\\arshad\\.conda\\envs\\gee\\lib\\site-packages (from google-api-python-client>=1.12.1->earthengine-api>=0.1.230->geemap) (1.25.1)\n",
      "Requirement already satisfied: uritemplate<4dev,>=3.0.0 in c:\\users\\arshad\\.conda\\envs\\gee\\lib\\site-packages (from google-api-python-client>=1.12.1->earthengine-api>=0.1.230->geemap) (3.0.1)\n",
      "Requirement already satisfied: googleapis-common-protos<2.0dev,>=1.6.0 in c:\\users\\arshad\\.conda\\envs\\gee\\lib\\site-packages (from google-api-core<2dev,>=1.21.0->google-api-python-client>=1.12.1->earthengine-api>=0.1.230->geemap) (1.52.0)\n",
      "Requirement already satisfied: setuptools>=40.3.0 in c:\\users\\arshad\\.conda\\envs\\gee\\lib\\site-packages (from google-api-core<2dev,>=1.21.0->google-api-python-client>=1.12.1->earthengine-api>=0.1.230->geemap) (52.0.0.post20210125)\n",
      "Requirement already satisfied: protobuf>=3.12.0 in c:\\users\\arshad\\.conda\\envs\\gee\\lib\\site-packages (from google-api-core<2dev,>=1.21.0->google-api-python-client>=1.12.1->earthengine-api>=0.1.230->geemap) (3.14.0)\n",
      "Requirement already satisfied: pytz in c:\\users\\arshad\\.conda\\envs\\gee\\lib\\site-packages (from google-api-core<2dev,>=1.21.0->google-api-python-client>=1.12.1->earthengine-api>=0.1.230->geemap) (2020.5)\n",
      "Requirement already satisfied: rsa<5,>=3.1.4 in c:\\users\\arshad\\.conda\\envs\\gee\\lib\\site-packages (from google-auth>=1.4.1->earthengine-api>=0.1.230->geemap) (4.7)\n",
      "Requirement already satisfied: pyasn1-modules>=0.2.1 in c:\\users\\arshad\\.conda\\envs\\gee\\lib\\site-packages (from google-auth>=1.4.1->earthengine-api>=0.1.230->geemap) (0.2.8)\n",
      "Requirement already satisfied: cachetools<5.0,>=2.0.0 in c:\\users\\arshad\\.conda\\envs\\gee\\lib\\site-packages (from google-auth>=1.4.1->earthengine-api>=0.1.230->geemap) (4.2.1)\n",
      "Requirement already satisfied: traittypes<3,>=0.2.1 in c:\\users\\arshad\\.conda\\envs\\gee\\lib\\site-packages (from ipyleaflet>=0.13.3->geemap) (0.2.1)\n",
      "Requirement already satisfied: ipywidgets<8,>=7.6.0 in c:\\users\\arshad\\.conda\\envs\\gee\\lib\\site-packages (from ipyleaflet>=0.13.3->geemap) (7.6.3)\n",
      "Requirement already satisfied: shapely in c:\\users\\arshad\\.conda\\envs\\gee\\lib\\site-packages (from ipyleaflet>=0.13.3->geemap) (1.7.1)\n",
      "Requirement already satisfied: widgetsnbextension~=3.5.0 in c:\\users\\arshad\\.conda\\envs\\gee\\lib\\site-packages (from ipywidgets<8,>=7.6.0->ipyleaflet>=0.13.3->geemap) (3.5.1)\n",
      "Requirement already satisfied: ipython>=4.0.0 in c:\\users\\arshad\\.conda\\envs\\gee\\lib\\site-packages (from ipywidgets<8,>=7.6.0->ipyleaflet>=0.13.3->geemap) (7.19.0)\n",
      "Requirement already satisfied: traitlets>=4.3.1 in c:\\users\\arshad\\.conda\\envs\\gee\\lib\\site-packages (from ipywidgets<8,>=7.6.0->ipyleaflet>=0.13.3->geemap) (5.0.5)\n",
      "Requirement already satisfied: jupyterlab-widgets>=1.0.0 in c:\\users\\arshad\\.conda\\envs\\gee\\lib\\site-packages (from ipywidgets<8,>=7.6.0->ipyleaflet>=0.13.3->geemap) (1.0.0)\n",
      "Requirement already satisfied: nbformat>=4.2.0 in c:\\users\\arshad\\.conda\\envs\\gee\\lib\\site-packages (from ipywidgets<8,>=7.6.0->ipyleaflet>=0.13.3->geemap) (5.1.2)\n",
      "Requirement already satisfied: ipykernel>=4.5.1 in c:\\users\\arshad\\.conda\\envs\\gee\\lib\\site-packages (from ipywidgets<8,>=7.6.0->ipyleaflet>=0.13.3->geemap) (5.4.2)\n",
      "Requirement already satisfied: tornado>=4.2 in c:\\users\\arshad\\.conda\\envs\\gee\\lib\\site-packages (from ipykernel>=4.5.1->ipywidgets<8,>=7.6.0->ipyleaflet>=0.13.3->geemap) (6.1)\n",
      "Requirement already satisfied: jupyter-client in c:\\users\\arshad\\.conda\\envs\\gee\\lib\\site-packages (from ipykernel>=4.5.1->ipywidgets<8,>=7.6.0->ipyleaflet>=0.13.3->geemap) (6.1.11)\n",
      "Requirement already satisfied: prompt-toolkit!=3.0.0,!=3.0.1,<3.1.0,>=2.0.0 in c:\\users\\arshad\\.conda\\envs\\gee\\lib\\site-packages (from ipython>=4.0.0->ipywidgets<8,>=7.6.0->ipyleaflet>=0.13.3->geemap) (3.0.14)\n",
      "Requirement already satisfied: decorator in c:\\users\\arshad\\.conda\\envs\\gee\\lib\\site-packages (from ipython>=4.0.0->ipywidgets<8,>=7.6.0->ipyleaflet>=0.13.3->geemap) (4.4.2)\n",
      "Requirement already satisfied: jedi>=0.10 in c:\\users\\arshad\\.conda\\envs\\gee\\lib\\site-packages (from ipython>=4.0.0->ipywidgets<8,>=7.6.0->ipyleaflet>=0.13.3->geemap) (0.17.2)\n",
      "Requirement already satisfied: pickleshare in c:\\users\\arshad\\.conda\\envs\\gee\\lib\\site-packages (from ipython>=4.0.0->ipywidgets<8,>=7.6.0->ipyleaflet>=0.13.3->geemap) (0.7.5)\n",
      "Requirement already satisfied: backcall in c:\\users\\arshad\\.conda\\envs\\gee\\lib\\site-packages (from ipython>=4.0.0->ipywidgets<8,>=7.6.0->ipyleaflet>=0.13.3->geemap) (0.2.0)\n",
      "Requirement already satisfied: pygments in c:\\users\\arshad\\.conda\\envs\\gee\\lib\\site-packages (from ipython>=4.0.0->ipywidgets<8,>=7.6.0->ipyleaflet>=0.13.3->geemap) (2.7.4)\n",
      "Requirement already satisfied: colorama in c:\\users\\arshad\\.conda\\envs\\gee\\lib\\site-packages (from ipython>=4.0.0->ipywidgets<8,>=7.6.0->ipyleaflet>=0.13.3->geemap) (0.4.4)\n",
      "Requirement already satisfied: parso<0.8.0,>=0.7.0 in c:\\users\\arshad\\.conda\\envs\\gee\\lib\\site-packages (from jedi>=0.10->ipython>=4.0.0->ipywidgets<8,>=7.6.0->ipyleaflet>=0.13.3->geemap) (0.7.1)\n",
      "Requirement already satisfied: MarkupSafe>=0.23 in c:\\users\\arshad\\.conda\\envs\\gee\\lib\\site-packages (from jinja2>=2.9->folium>=0.11.0->geemap) (1.1.1)\n",
      "Requirement already satisfied: jsonschema!=2.5.0,>=2.4 in c:\\users\\arshad\\.conda\\envs\\gee\\lib\\site-packages (from nbformat>=4.2.0->ipywidgets<8,>=7.6.0->ipyleaflet>=0.13.3->geemap) (3.2.0)\n",
      "Requirement already satisfied: ipython-genutils in c:\\users\\arshad\\.conda\\envs\\gee\\lib\\site-packages (from nbformat>=4.2.0->ipywidgets<8,>=7.6.0->ipyleaflet>=0.13.3->geemap) (0.2.0)\n",
      "Requirement already satisfied: jupyter-core in c:\\users\\arshad\\.conda\\envs\\gee\\lib\\site-packages (from nbformat>=4.2.0->ipywidgets<8,>=7.6.0->ipyleaflet>=0.13.3->geemap) (4.7.1)\n",
      "Requirement already satisfied: pyrsistent>=0.14.0 in c:\\users\\arshad\\.conda\\envs\\gee\\lib\\site-packages (from jsonschema!=2.5.0,>=2.4->nbformat>=4.2.0->ipywidgets<8,>=7.6.0->ipyleaflet>=0.13.3->geemap) (0.17.3)\n",
      "Requirement already satisfied: attrs>=17.4.0 in c:\\users\\arshad\\.conda\\envs\\gee\\lib\\site-packages (from jsonschema!=2.5.0,>=2.4->nbformat>=4.2.0->ipywidgets<8,>=7.6.0->ipyleaflet>=0.13.3->geemap) (20.3.0)\n",
      "Requirement already satisfied: wcwidth in c:\\users\\arshad\\.conda\\envs\\gee\\lib\\site-packages (from prompt-toolkit!=3.0.0,!=3.0.1,<3.1.0,>=2.0.0->ipython>=4.0.0->ipywidgets<8,>=7.6.0->ipyleaflet>=0.13.3->geemap) (0.2.5)\n",
      "Requirement already satisfied: pyasn1<0.5.0,>=0.4.6 in c:\\users\\arshad\\.conda\\envs\\gee\\lib\\site-packages (from pyasn1-modules>=0.2.1->google-auth>=1.4.1->earthengine-api>=0.1.230->geemap) (0.4.8)\n",
      "Requirement already satisfied: urllib3<1.27,>=1.21.1 in c:\\users\\arshad\\.conda\\envs\\gee\\lib\\site-packages (from requests->folium>=0.11.0->geemap) (1.26.3)\n",
      "Requirement already satisfied: chardet<5,>=3.0.2 in c:\\users\\arshad\\.conda\\envs\\gee\\lib\\site-packages (from requests->folium>=0.11.0->geemap) (4.0.0)\n",
      "Requirement already satisfied: idna<3,>=2.5 in c:\\users\\arshad\\.conda\\envs\\gee\\lib\\site-packages (from requests->folium>=0.11.0->geemap) (2.10)\n",
      "Requirement already satisfied: certifi>=2017.4.17 in c:\\users\\arshad\\.conda\\envs\\gee\\lib\\site-packages (from requests->folium>=0.11.0->geemap) (2020.12.5)\n",
      "Requirement already satisfied: notebook>=4.4.1 in c:\\users\\arshad\\.conda\\envs\\gee\\lib\\site-packages (from widgetsnbextension~=3.5.0->ipywidgets<8,>=7.6.0->ipyleaflet>=0.13.3->geemap) (6.2.0)\n",
      "Requirement already satisfied: pyzmq>=17 in c:\\users\\arshad\\.conda\\envs\\gee\\lib\\site-packages (from notebook>=4.4.1->widgetsnbextension~=3.5.0->ipywidgets<8,>=7.6.0->ipyleaflet>=0.13.3->geemap) (22.0.1)\n",
      "Requirement already satisfied: terminado>=0.8.3 in c:\\users\\arshad\\.conda\\envs\\gee\\lib\\site-packages (from notebook>=4.4.1->widgetsnbextension~=3.5.0->ipywidgets<8,>=7.6.0->ipyleaflet>=0.13.3->geemap) (0.9.2)\n",
      "Requirement already satisfied: prometheus-client in c:\\users\\arshad\\.conda\\envs\\gee\\lib\\site-packages (from notebook>=4.4.1->widgetsnbextension~=3.5.0->ipywidgets<8,>=7.6.0->ipyleaflet>=0.13.3->geemap) (0.9.0)\n",
      "Requirement already satisfied: argon2-cffi in c:\\users\\arshad\\.conda\\envs\\gee\\lib\\site-packages (from notebook>=4.4.1->widgetsnbextension~=3.5.0->ipywidgets<8,>=7.6.0->ipyleaflet>=0.13.3->geemap) (20.1.0)\n",
      "Requirement already satisfied: nbconvert in c:\\users\\arshad\\.conda\\envs\\gee\\lib\\site-packages (from notebook>=4.4.1->widgetsnbextension~=3.5.0->ipywidgets<8,>=7.6.0->ipyleaflet>=0.13.3->geemap) (6.0.7)\n",
      "Requirement already satisfied: Send2Trash>=1.5.0 in c:\\users\\arshad\\.conda\\envs\\gee\\lib\\site-packages (from notebook>=4.4.1->widgetsnbextension~=3.5.0->ipywidgets<8,>=7.6.0->ipyleaflet>=0.13.3->geemap) (1.5.0)\n"
     ]
    },
    {
     "name": "stdout",
     "output_type": "stream",
     "text": [
      "Requirement already satisfied: python-dateutil>=2.1 in c:\\users\\arshad\\.conda\\envs\\gee\\lib\\site-packages (from jupyter-client->ipykernel>=4.5.1->ipywidgets<8,>=7.6.0->ipyleaflet>=0.13.3->geemap) (2.8.1)\n",
      "Requirement already satisfied: pywin32>=1.0 in c:\\users\\arshad\\.conda\\envs\\gee\\lib\\site-packages (from jupyter-core->nbformat>=4.2.0->ipywidgets<8,>=7.6.0->ipyleaflet>=0.13.3->geemap) (300)\n",
      "Requirement already satisfied: pywinpty>=0.5 in c:\\users\\arshad\\.conda\\envs\\gee\\lib\\site-packages (from terminado>=0.8.3->notebook>=4.4.1->widgetsnbextension~=3.5.0->ipywidgets<8,>=7.6.0->ipyleaflet>=0.13.3->geemap) (0.5.7)\n",
      "Requirement already satisfied: threadpoolctl>=2.0.0 in c:\\users\\arshad\\.conda\\envs\\gee\\lib\\site-packages (from scikit-learn) (2.1.0)\n",
      "Requirement already satisfied: scipy>=0.19.1 in c:\\users\\arshad\\.conda\\envs\\gee\\lib\\site-packages (from scikit-learn) (1.6.0)\n",
      "Requirement already satisfied: joblib>=0.11 in c:\\users\\arshad\\.conda\\envs\\gee\\lib\\site-packages (from scikit-learn) (1.0.0)\n",
      "Requirement already satisfied: cffi>=1.0.0 in c:\\users\\arshad\\.conda\\envs\\gee\\lib\\site-packages (from argon2-cffi->notebook>=4.4.1->widgetsnbextension~=3.5.0->ipywidgets<8,>=7.6.0->ipyleaflet>=0.13.3->geemap) (1.14.4)\n",
      "Requirement already satisfied: pycparser in c:\\users\\arshad\\.conda\\envs\\gee\\lib\\site-packages (from cffi>=1.0.0->argon2-cffi->notebook>=4.4.1->widgetsnbextension~=3.5.0->ipywidgets<8,>=7.6.0->ipyleaflet>=0.13.3->geemap) (2.20)\n",
      "Requirement already satisfied: ratelim in c:\\users\\arshad\\.conda\\envs\\gee\\lib\\site-packages (from geocoder->geemap) (0.1.6)\n",
      "Requirement already satisfied: google-resumable-media<2.0dev,>=1.2.0 in c:\\users\\arshad\\.conda\\envs\\gee\\lib\\site-packages (from google-cloud-storage->earthengine-api>=0.1.230->geemap) (1.2.0)\n",
      "Requirement already satisfied: google-cloud-core<2.0dev,>=1.4.1 in c:\\users\\arshad\\.conda\\envs\\gee\\lib\\site-packages (from google-cloud-storage->earthengine-api>=0.1.230->geemap) (1.5.0)\n",
      "Requirement already satisfied: google-crc32c<2.0dev,>=1.0 in c:\\users\\arshad\\.conda\\envs\\gee\\lib\\site-packages (from google-resumable-media<2.0dev,>=1.2.0->google-cloud-storage->earthengine-api>=0.1.230->geemap) (1.1.2)\n",
      "Requirement already satisfied: kiwisolver>=1.0.1 in c:\\users\\arshad\\.conda\\envs\\gee\\lib\\site-packages (from matplotlib->geemap) (1.3.1)\n",
      "Requirement already satisfied: pyparsing!=2.0.4,!=2.1.2,!=2.1.6,>=2.0.3 in c:\\users\\arshad\\.conda\\envs\\gee\\lib\\site-packages (from matplotlib->geemap) (2.4.7)\n",
      "Requirement already satisfied: cycler>=0.10 in c:\\users\\arshad\\.conda\\envs\\gee\\lib\\site-packages (from matplotlib->geemap) (0.10.0)\n",
      "Requirement already satisfied: defusedxml in c:\\users\\arshad\\.conda\\envs\\gee\\lib\\site-packages (from nbconvert->notebook>=4.4.1->widgetsnbextension~=3.5.0->ipywidgets<8,>=7.6.0->ipyleaflet>=0.13.3->geemap) (0.6.0)\n",
      "Requirement already satisfied: pandocfilters>=1.4.1 in c:\\users\\arshad\\.conda\\envs\\gee\\lib\\site-packages (from nbconvert->notebook>=4.4.1->widgetsnbextension~=3.5.0->ipywidgets<8,>=7.6.0->ipyleaflet>=0.13.3->geemap) (1.4.3)\n",
      "Requirement already satisfied: jupyterlab-pygments in c:\\users\\arshad\\.conda\\envs\\gee\\lib\\site-packages (from nbconvert->notebook>=4.4.1->widgetsnbextension~=3.5.0->ipywidgets<8,>=7.6.0->ipyleaflet>=0.13.3->geemap) (0.1.2)\n",
      "Requirement already satisfied: testpath in c:\\users\\arshad\\.conda\\envs\\gee\\lib\\site-packages (from nbconvert->notebook>=4.4.1->widgetsnbextension~=3.5.0->ipywidgets<8,>=7.6.0->ipyleaflet>=0.13.3->geemap) (0.4.4)\n",
      "Requirement already satisfied: mistune<2,>=0.8.1 in c:\\users\\arshad\\.conda\\envs\\gee\\lib\\site-packages (from nbconvert->notebook>=4.4.1->widgetsnbextension~=3.5.0->ipywidgets<8,>=7.6.0->ipyleaflet>=0.13.3->geemap) (0.8.4)\n",
      "Requirement already satisfied: bleach in c:\\users\\arshad\\.conda\\envs\\gee\\lib\\site-packages (from nbconvert->notebook>=4.4.1->widgetsnbextension~=3.5.0->ipywidgets<8,>=7.6.0->ipyleaflet>=0.13.3->geemap) (3.2.3)\n",
      "Requirement already satisfied: nbclient<0.6.0,>=0.5.0 in c:\\users\\arshad\\.conda\\envs\\gee\\lib\\site-packages (from nbconvert->notebook>=4.4.1->widgetsnbextension~=3.5.0->ipywidgets<8,>=7.6.0->ipyleaflet>=0.13.3->geemap) (0.5.1)\n",
      "Requirement already satisfied: entrypoints>=0.2.2 in c:\\users\\arshad\\.conda\\envs\\gee\\lib\\site-packages (from nbconvert->notebook>=4.4.1->widgetsnbextension~=3.5.0->ipywidgets<8,>=7.6.0->ipyleaflet>=0.13.3->geemap) (0.3)\n",
      "Requirement already satisfied: async-generator in c:\\users\\arshad\\.conda\\envs\\gee\\lib\\site-packages (from nbclient<0.6.0,>=0.5.0->nbconvert->notebook>=4.4.1->widgetsnbextension~=3.5.0->ipywidgets<8,>=7.6.0->ipyleaflet>=0.13.3->geemap) (1.10)\n",
      "Requirement already satisfied: nest-asyncio in c:\\users\\arshad\\.conda\\envs\\gee\\lib\\site-packages (from nbclient<0.6.0,>=0.5.0->nbconvert->notebook>=4.4.1->widgetsnbextension~=3.5.0->ipywidgets<8,>=7.6.0->ipyleaflet>=0.13.3->geemap) (1.4.3)\n",
      "Requirement already satisfied: webencodings in c:\\users\\arshad\\.conda\\envs\\gee\\lib\\site-packages (from bleach->nbconvert->notebook>=4.4.1->widgetsnbextension~=3.5.0->ipywidgets<8,>=7.6.0->ipyleaflet>=0.13.3->geemap) (0.5.1)\n",
      "Requirement already satisfied: packaging in c:\\users\\arshad\\.conda\\envs\\gee\\lib\\site-packages (from bleach->nbconvert->notebook>=4.4.1->widgetsnbextension~=3.5.0->ipywidgets<8,>=7.6.0->ipyleaflet>=0.13.3->geemap) (20.9)\n",
      "Requirement already satisfied: jupyter-server<2.0.0,>=0.3.0 in c:\\users\\arshad\\.conda\\envs\\gee\\lib\\site-packages (from voila->geemap) (1.2.3)\n",
      "Requirement already satisfied: anyio>=2.0.2 in c:\\users\\arshad\\.conda\\envs\\gee\\lib\\site-packages (from jupyter-server<2.0.0,>=0.3.0->voila->geemap) (2.0.2)\n",
      "Requirement already satisfied: sniffio>=1.1 in c:\\users\\arshad\\.conda\\envs\\gee\\lib\\site-packages (from anyio>=2.0.2->jupyter-server<2.0.0,>=0.3.0->voila->geemap) (1.2.0)\n"
     ]
    }
   ],
   "source": [
    "!pip install geemap scikit-learn"
   ]
  },
  {
   "cell_type": "code",
   "execution_count": 3,
   "id": "obvious-hundred",
   "metadata": {},
   "outputs": [],
   "source": [
    "import ee\n",
    "import geemap\n",
    "import pandas as pd\n",
    "\n",
    "from geemap import ml\n",
    "from sklearn import ensemble"
   ]
  },
  {
   "cell_type": "code",
   "execution_count": 4,
   "id": "artistic-youth",
   "metadata": {},
   "outputs": [],
   "source": [
    "geemap.ee_initialize()"
   ]
  },
  {
   "cell_type": "code",
   "execution_count": 5,
   "id": "italic-clarity",
   "metadata": {},
   "outputs": [],
   "source": [
    "# read the feature table to train our RandomForest model\n",
    "# data taken from ee.FeatureCollection('GOOGLE/EE/DEMOS/demo_landcover_labels')\n",
    "\n",
    "url = \"https://raw.githubusercontent.com/giswqs/geemap/master/examples/data/rf_example.csv\"\n",
    "df = pd.read_csv(url)"
   ]
  },
  {
   "cell_type": "code",
   "execution_count": 6,
   "id": "unusual-running",
   "metadata": {},
   "outputs": [
    {
     "data": {
      "text/html": [
       "<div>\n",
       "<style scoped>\n",
       "    .dataframe tbody tr th:only-of-type {\n",
       "        vertical-align: middle;\n",
       "    }\n",
       "\n",
       "    .dataframe tbody tr th {\n",
       "        vertical-align: top;\n",
       "    }\n",
       "\n",
       "    .dataframe thead th {\n",
       "        text-align: right;\n",
       "    }\n",
       "</style>\n",
       "<table border=\"1\" class=\"dataframe\">\n",
       "  <thead>\n",
       "    <tr style=\"text-align: right;\">\n",
       "      <th></th>\n",
       "      <th>B2</th>\n",
       "      <th>B3</th>\n",
       "      <th>B4</th>\n",
       "      <th>B5</th>\n",
       "      <th>B6</th>\n",
       "      <th>B7</th>\n",
       "      <th>landcover</th>\n",
       "    </tr>\n",
       "  </thead>\n",
       "  <tbody>\n",
       "    <tr>\n",
       "      <th>0</th>\n",
       "      <td>0.139846</td>\n",
       "      <td>0.114738</td>\n",
       "      <td>0.109982</td>\n",
       "      <td>0.119542</td>\n",
       "      <td>0.125795</td>\n",
       "      <td>0.105720</td>\n",
       "      <td>0</td>\n",
       "    </tr>\n",
       "    <tr>\n",
       "      <th>1</th>\n",
       "      <td>0.130316</td>\n",
       "      <td>0.109207</td>\n",
       "      <td>0.107499</td>\n",
       "      <td>0.140210</td>\n",
       "      <td>0.132006</td>\n",
       "      <td>0.108497</td>\n",
       "      <td>0</td>\n",
       "    </tr>\n",
       "    <tr>\n",
       "      <th>2</th>\n",
       "      <td>0.146690</td>\n",
       "      <td>0.135766</td>\n",
       "      <td>0.146550</td>\n",
       "      <td>0.225686</td>\n",
       "      <td>0.218105</td>\n",
       "      <td>0.167111</td>\n",
       "      <td>0</td>\n",
       "    </tr>\n",
       "    <tr>\n",
       "      <th>3</th>\n",
       "      <td>0.119413</td>\n",
       "      <td>0.108924</td>\n",
       "      <td>0.105196</td>\n",
       "      <td>0.144868</td>\n",
       "      <td>0.159775</td>\n",
       "      <td>0.122056</td>\n",
       "      <td>0</td>\n",
       "    </tr>\n",
       "    <tr>\n",
       "      <th>4</th>\n",
       "      <td>0.155492</td>\n",
       "      <td>0.139932</td>\n",
       "      <td>0.137486</td>\n",
       "      <td>0.151377</td>\n",
       "      <td>0.153771</td>\n",
       "      <td>0.133134</td>\n",
       "      <td>0</td>\n",
       "    </tr>\n",
       "    <tr>\n",
       "      <th>...</th>\n",
       "      <td>...</td>\n",
       "      <td>...</td>\n",
       "      <td>...</td>\n",
       "      <td>...</td>\n",
       "      <td>...</td>\n",
       "      <td>...</td>\n",
       "      <td>...</td>\n",
       "    </tr>\n",
       "    <tr>\n",
       "      <th>93</th>\n",
       "      <td>0.117331</td>\n",
       "      <td>0.092176</td>\n",
       "      <td>0.062548</td>\n",
       "      <td>0.020362</td>\n",
       "      <td>0.005813</td>\n",
       "      <td>0.004047</td>\n",
       "      <td>2</td>\n",
       "    </tr>\n",
       "    <tr>\n",
       "      <th>94</th>\n",
       "      <td>0.118353</td>\n",
       "      <td>0.093785</td>\n",
       "      <td>0.060253</td>\n",
       "      <td>0.020083</td>\n",
       "      <td>0.007317</td>\n",
       "      <td>0.004719</td>\n",
       "      <td>2</td>\n",
       "    </tr>\n",
       "    <tr>\n",
       "      <th>95</th>\n",
       "      <td>0.123362</td>\n",
       "      <td>0.095831</td>\n",
       "      <td>0.069663</td>\n",
       "      <td>0.027320</td>\n",
       "      <td>0.011386</td>\n",
       "      <td>0.008357</td>\n",
       "      <td>2</td>\n",
       "    </tr>\n",
       "    <tr>\n",
       "      <th>96</th>\n",
       "      <td>0.122907</td>\n",
       "      <td>0.100083</td>\n",
       "      <td>0.079527</td>\n",
       "      <td>0.024564</td>\n",
       "      <td>0.008570</td>\n",
       "      <td>0.006321</td>\n",
       "      <td>2</td>\n",
       "    </tr>\n",
       "    <tr>\n",
       "      <th>97</th>\n",
       "      <td>0.119945</td>\n",
       "      <td>0.097548</td>\n",
       "      <td>0.066974</td>\n",
       "      <td>0.021062</td>\n",
       "      <td>0.006598</td>\n",
       "      <td>0.004311</td>\n",
       "      <td>2</td>\n",
       "    </tr>\n",
       "  </tbody>\n",
       "</table>\n",
       "<p>98 rows × 7 columns</p>\n",
       "</div>"
      ],
      "text/plain": [
       "          B2        B3        B4        B5        B6        B7  landcover\n",
       "0   0.139846  0.114738  0.109982  0.119542  0.125795  0.105720          0\n",
       "1   0.130316  0.109207  0.107499  0.140210  0.132006  0.108497          0\n",
       "2   0.146690  0.135766  0.146550  0.225686  0.218105  0.167111          0\n",
       "3   0.119413  0.108924  0.105196  0.144868  0.159775  0.122056          0\n",
       "4   0.155492  0.139932  0.137486  0.151377  0.153771  0.133134          0\n",
       "..       ...       ...       ...       ...       ...       ...        ...\n",
       "93  0.117331  0.092176  0.062548  0.020362  0.005813  0.004047          2\n",
       "94  0.118353  0.093785  0.060253  0.020083  0.007317  0.004719          2\n",
       "95  0.123362  0.095831  0.069663  0.027320  0.011386  0.008357          2\n",
       "96  0.122907  0.100083  0.079527  0.024564  0.008570  0.006321          2\n",
       "97  0.119945  0.097548  0.066974  0.021062  0.006598  0.004311          2\n",
       "\n",
       "[98 rows x 7 columns]"
      ]
     },
     "execution_count": 6,
     "metadata": {},
     "output_type": "execute_result"
    }
   ],
   "source": [
    "df"
   ]
  },
  {
   "cell_type": "code",
   "execution_count": 7,
   "id": "thermal-lemon",
   "metadata": {},
   "outputs": [],
   "source": [
    "# specify the names of the features (i.e. band names) and label\n",
    "# feature names used to extract out features and define what bands\n",
    "\n",
    "feature_names = ['B2', 'B3', 'B4', 'B5', 'B6', 'B7']\n",
    "label = \"landcover\""
   ]
  },
  {
   "cell_type": "code",
   "execution_count": 8,
   "id": "surrounded-solid",
   "metadata": {},
   "outputs": [],
   "source": [
    "# get the features and labels into seperate variables\n",
    "X = df[feature_names]\n",
    "y = df[label]"
   ]
  },
  {
   "cell_type": "code",
   "execution_count": 9,
   "id": "automotive-begin",
   "metadata": {},
   "outputs": [],
   "source": [
    "# create a classifier and fit\n",
    "n_trees = 10 \n",
    "rf = ensemble.RandomForestClassifier(n_trees).fit(X,y)"
   ]
  },
  {
   "cell_type": "code",
   "execution_count": 10,
   "id": "diverse-links",
   "metadata": {},
   "outputs": [],
   "source": [
    "# convert the estimator into a list of strings\n",
    "# this function also works with the ensemble.ExtraTrees estimator\n",
    "trees =  ml.rf_to_strings(rf,feature_names)"
   ]
  },
  {
   "cell_type": "code",
   "execution_count": 11,
   "id": "unusual-stamp",
   "metadata": {},
   "outputs": [
    {
     "name": "stdout",
     "output_type": "stream",
     "text": [
      "1) root 60 9999 9999 (1.726376758000842)\n",
      "  2) B5 <= 0.064203 20 0.0000 2.000000 *\n",
      "  3) B5 > 0.064203 60 0.6662 0.000000\n",
      "    6) B3 <= 0.107335 40 0.4999 0.000000\n",
      "      12) B5 <= 0.129585 1 0.0000 0.000000 *\n",
      "      13) B5 > 0.129585 20 0.0000 1.000000 *\n",
      "    7) B3 > 0.107335 40 0.4999 0.000000\n",
      "      14) B6 <= 0.306811 16 0.0000 0.000000 *\n",
      "      15) B6 > 0.306811 19 0.0571 0.000000\n",
      "        30) B2 <= 0.187859 1 0.0000 1.000000 *\n",
      "        31) B2 > 0.187859 2 0.0000 0.000000 *\n",
      "\n"
     ]
    }
   ],
   "source": [
    "# print the first tree to see the result\n",
    "print(trees[0])"
   ]
  },
  {
   "cell_type": "code",
   "execution_count": 12,
   "id": "cooked-causing",
   "metadata": {},
   "outputs": [
    {
     "name": "stdout",
     "output_type": "stream",
     "text": [
      "1) root 61 9999 9999 (1.732859287837468)\n",
      "  2) B7 <= 0.019032 23 0.0000 2.000000 *\n",
      "  3) B7 > 0.019032 61 0.6545 2.000000\n",
      "    6) B3 <= 0.107013 20 0.0000 1.000000 *\n",
      "    7) B3 > 0.107013 38 0.4962 1.000000\n",
      "      14) B7 <= 0.188192 12 0.0000 0.000000 *\n",
      "      15) B7 > 0.188192 18 0.1855 0.000000\n",
      "        30) B3 <= 0.135390 1 0.0000 1.000000 *\n",
      "        31) B3 > 0.135390 5 0.0000 0.000000 *\n",
      "\n"
     ]
    }
   ],
   "source": [
    "print(trees[1])"
   ]
  },
  {
   "cell_type": "code",
   "execution_count": 13,
   "id": "incorrect-berlin",
   "metadata": {},
   "outputs": [
    {
     "data": {
      "text/plain": [
       "True"
      ]
     },
     "execution_count": 13,
     "metadata": {},
     "output_type": "execute_result"
    }
   ],
   "source": [
    "# number of trees we converted should equal the number of trees we defined for the model\n",
    "len(trees) == n_trees"
   ]
  },
  {
   "cell_type": "code",
   "execution_count": 14,
   "id": "nutritional-movie",
   "metadata": {},
   "outputs": [],
   "source": [
    "# create a ee classifier to use with ee objects from the trees\n",
    "ee_classifier = ml.strings_to_classifier(trees)"
   ]
  },
  {
   "cell_type": "code",
   "execution_count": 15,
   "id": "generous-symbol",
   "metadata": {},
   "outputs": [],
   "source": [
    "# Make a cloud-free Landsat 8 TOA composite (from raw imagery).\n",
    "l8 = ee.ImageCollection('LANDSAT/LC08/C01/T1');\n",
    "\n",
    "image = ee.Algorithms.Landsat.simpleComposite(\n",
    "  collection= l8.filterDate('2018-01-01', '2018-12-31'),\n",
    "  asFloat= True\n",
    ")"
   ]
  },
  {
   "cell_type": "code",
   "execution_count": 16,
   "id": "diagnostic-thriller",
   "metadata": {},
   "outputs": [],
   "source": [
    "# classify the image using the classifier we created from the local training\n",
    "# note: here we select the feature_names from the image that way the classifier knows which bands to use\n",
    "classified = image.select(feature_names).classify(ee_classifier)"
   ]
  },
  {
   "cell_type": "code",
   "execution_count": 17,
   "id": "innovative-smell",
   "metadata": {},
   "outputs": [
    {
     "data": {
      "application/vnd.jupyter.widget-view+json": {
       "model_id": "cc505b6c4ec4471899a6bf58499a81e8",
       "version_major": 2,
       "version_minor": 0
      },
      "text/plain": [
       "Map(center=[37.75, -122.25], controls=(WidgetControl(options=['position', 'transparent_bg'], widget=HBox(child…"
      ]
     },
     "metadata": {},
     "output_type": "display_data"
    }
   ],
   "source": [
    "# display results\n",
    "Map = geemap.Map(center=(37.75,-122.25), zoom=11)\n",
    "\n",
    "Map.addLayer(image,{\"bands\": ['B7', 'B5', 'B3'], \"min\":0.05, \"max\": 0.55, \"gamma\":1.5}, 'image')\n",
    "Map.addLayer(classified, {\"min\": 0, \"max\": 2, \"palette\": ['red', 'green', 'blue']},'classification')\n",
    "\n",
    "Map"
   ]
  },
  {
   "cell_type": "code",
   "execution_count": 18,
   "id": "compound-credits",
   "metadata": {},
   "outputs": [],
   "source": [
    "import os\n",
    "out_csv = os.path.expanduser(\"~/Downloads/trees.csv\")"
   ]
  },
  {
   "cell_type": "code",
   "execution_count": 19,
   "id": "determined-letter",
   "metadata": {},
   "outputs": [],
   "source": [
    "ml.trees_to_csv(trees, out_csv)"
   ]
  },
  {
   "cell_type": "code",
   "execution_count": 20,
   "id": "joint-petite",
   "metadata": {},
   "outputs": [],
   "source": [
    "another_classifier = ml.csv_to_classifier(out_csv)"
   ]
  },
  {
   "cell_type": "code",
   "execution_count": 21,
   "id": "yellow-mathematics",
   "metadata": {},
   "outputs": [],
   "source": [
    "classified = image.select(feature_names).classify(another_classifier)"
   ]
  },
  {
   "cell_type": "code",
   "execution_count": 22,
   "id": "funny-pavilion",
   "metadata": {},
   "outputs": [
    {
     "data": {
      "application/vnd.jupyter.widget-view+json": {
       "model_id": "372eea4ae0e444e4a34de9d84d19497b",
       "version_major": 2,
       "version_minor": 0
      },
      "text/plain": [
       "Map(center=[37.75, -122.25], controls=(WidgetControl(options=['position', 'transparent_bg'], widget=HBox(child…"
      ]
     },
     "metadata": {},
     "output_type": "display_data"
    }
   ],
   "source": [
    "# display results\n",
    "# we should get the exact same results as before\n",
    "Map = geemap.Map(center=(37.75,-122.25), zoom=11)\n",
    "\n",
    "Map.addLayer(image,{\"bands\": ['B7', 'B5', 'B3'], \"min\":0.05, \"max\": 0.55, \"gamma\":1.5}, 'image')\n",
    "Map.addLayer(classified, {\"min\": 0, \"max\": 2, \"palette\": ['red', 'green', 'blue']},'classification')\n",
    "\n",
    "Map"
   ]
  },
  {
   "cell_type": "code",
   "execution_count": null,
   "id": "pressing-bruce",
   "metadata": {},
   "outputs": [],
   "source": []
  }
 ],
 "metadata": {
  "kernelspec": {
   "display_name": "Python 3",
   "language": "python",
   "name": "python3"
  },
  "language_info": {
   "codemirror_mode": {
    "name": "ipython",
    "version": 3
   },
   "file_extension": ".py",
   "mimetype": "text/x-python",
   "name": "python",
   "nbconvert_exporter": "python",
   "pygments_lexer": "ipython3",
   "version": "3.9.1"
  }
 },
 "nbformat": 4,
 "nbformat_minor": 5
}
